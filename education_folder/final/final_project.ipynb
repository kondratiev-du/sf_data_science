{
 "cells": [
  {
   "cell_type": "markdown",
   "metadata": {
    "id": "wpnko4fqZ-tM"
   },
   "source": [
    "# 1. Загрузка данных"
   ]
  },
  {
   "cell_type": "markdown",
   "metadata": {
    "id": "fWLCbbVZcw-V"
   },
   "source": [
    "## 1.1. Распакуем архив"
   ]
  },
  {
   "cell_type": "code",
   "execution_count": null,
   "metadata": {
    "colab": {
     "base_uri": "https://localhost:8080/"
    },
    "id": "9FMFHV7BcwTs",
    "outputId": "1fd093d6-9eb7-40ff-ee79-6c873391f8f5"
   },
   "outputs": [],
   "source": [
    "#!unzip data_input4.zip"
   ]
  },
  {
   "cell_type": "markdown",
   "metadata": {
    "id": "2ZFqiZqhcybc"
   },
   "source": [
    "## 1.2. Произведем предобработку данных"
   ]
  },
  {
   "cell_type": "code",
   "execution_count": null,
   "metadata": {
    "id": "ihewx0_94M32"
   },
   "outputs": [],
   "source": [
    "import os\n",
    "\n",
    "import numpy as np\n",
    "import pandas as pd\n",
    "import seaborn as sns\n",
    "import matplotlib.pyplot as plt\n",
    "\n",
    "from collections import Counter"
   ]
  },
  {
   "cell_type": "code",
   "execution_count": null,
   "metadata": {
    "id": "VUKRRwmN4UYQ"
   },
   "outputs": [],
   "source": [
    "root_folder = \"data_input4\"\n",
    "all_files = {}\n",
    "for fld in next(os.walk(root_folder))[1]:\n",
    "    path = os.path.join(root_folder, fld)\n",
    "    all_files[fld] = [f for f in os.listdir(path) if os.path.isfile(os.path.join(path, f))]"
   ]
  },
  {
   "cell_type": "code",
   "execution_count": null,
   "metadata": {
    "colab": {
     "base_uri": "https://localhost:8080/"
    },
    "id": "2n8O0CEb4gCQ",
    "outputId": "7eb18ce6-e1e0-4b22-bf5b-6020d53879e7"
   },
   "outputs": [],
   "source": [
    "measurements = []\n",
    "classifications = []\n",
    "\n",
    "count_healhy = 0\n",
    "count_sick = 0\n",
    "\n",
    "for sample in list(all_files):\n",
    "    for txt in all_files[sample]:\n",
    "        if \"DS_Store\" not in str(txt):\n",
    "            df = pd.read_csv(os.path.join(root_folder,sample,txt), sep='\\t',skiprows=[0],\n",
    "                header=None, names=[ 'Wave', 'Intensity'])\n",
    "        #time_unique = df.Wave.unique()\n",
    "            if len(df[['Intensity']].to_numpy()) != 994:\n",
    "                measurements.append(df[['Intensity']].to_numpy())\n",
    "                if 'healthy' in str(sample):\n",
    "                    classifications.append([1,0])\n",
    "                    count_healhy += 1\n",
    "                if 'sick' in str(sample):\n",
    "                    classifications.append([0,1])\n",
    "                    count_sick += 1\n",
    "\n",
    "print(f'Здоровые ткани: {count_healhy}')\n",
    "print(f'Больные ткани: {count_sick}')\n",
    "print(f'Все ткани: {count_healhy + count_sick}')"
   ]
  },
  {
   "cell_type": "markdown",
   "metadata": {
    "id": "nuxS39wl5eru"
   },
   "source": [
    "Загрузим дополнительные данные"
   ]
  },
  {
   "cell_type": "code",
   "execution_count": null,
   "metadata": {
    "colab": {
     "base_uri": "https://localhost:8080/"
    },
    "id": "l_Ef4c3b4Ua-",
    "outputId": "490e2465-bed4-4c42-82ee-a38800ffde25"
   },
   "outputs": [],
   "source": [
    "add_data = \"image_tumor_patient20022019_633nm_obj20_power100_1sec_сenter2900.txt\"\n",
    "\n",
    "add_data = pd.read_csv(add_data, sep='\\t',skiprows=[0], header=None)\n",
    "\n",
    "for i in range(468):\n",
    "    measurements.append(add_data.loc[i : i + 1014][3].to_numpy().reshape(-1, 1))\n",
    "    classifications.append([0, 1])\n",
    "    count_sick += 1\n",
    "\n",
    "print(f'Здоровые ткани: {count_healhy}')\n",
    "print(f'Больные ткани: {count_sick}')\n",
    "print(f'Все ткани: {count_healhy + count_sick}')"
   ]
  },
  {
   "cell_type": "markdown",
   "metadata": {
    "id": "QhjePmvl7B1S"
   },
   "source": [
    "# 2. Анализ данных"
   ]
  },
  {
   "cell_type": "markdown",
   "metadata": {
    "id": "puLIn6H04DtG"
   },
   "source": [
    "Подготовим данные"
   ]
  },
  {
   "cell_type": "code",
   "execution_count": null,
   "metadata": {
    "id": "SLXe-8dA6EYH"
   },
   "outputs": [],
   "source": [
    "X = np.array(measurements)\n",
    "y = np.array(classifications)"
   ]
  },
  {
   "cell_type": "code",
   "execution_count": null,
   "metadata": {
    "colab": {
     "base_uri": "https://localhost:8080/"
    },
    "id": "M7QJ4jY16ggE",
    "outputId": "b15f59de-7776-4a8e-ad2a-9ee407eabd85"
   },
   "outputs": [],
   "source": [
    "X.shape"
   ]
  },
  {
   "cell_type": "code",
   "execution_count": null,
   "metadata": {
    "colab": {
     "base_uri": "https://localhost:8080/"
    },
    "id": "ypKZVoG46gjI",
    "outputId": "84169256-c7a8-4ee9-e908-f521c6b5e8ca"
   },
   "outputs": [],
   "source": [
    "X = X.reshape(1022, 1015)\n",
    "X.shape"
   ]
  },
  {
   "cell_type": "markdown",
   "metadata": {
    "id": "QqqF4YlGTg-p"
   },
   "source": [
    "Сделаем чтобы столбцами стали наши длины волны (Raman Shifts)"
   ]
  },
  {
   "cell_type": "code",
   "execution_count": null,
   "metadata": {
    "id": "l_0TxPtYeSPT"
   },
   "outputs": [],
   "source": [
    "raman_shifts = pd.read_csv('data_input4/01_healthy/cortex_patient180219_633nm_obj50_power100_1sec_acc40_сenter2900_place7_20200813_1.txt', sep=\"\\t\", header=None)\n",
    "raman_shifts.drop(columns=[2], inplace = True)\n",
    "raman_shifts.columns = [\"Raman Shifts\", \"Интенсивность\"]\n",
    "raman_shifts.drop(raman_shifts.head(1).index, inplace=True)\n",
    "raman_shifts[\"Raman Shifts\"] = pd.to_numeric(raman_shifts[\"Raman Shifts\"], errors='coerce').astype(np.int64)"
   ]
  },
  {
   "cell_type": "code",
   "execution_count": null,
   "metadata": {
    "colab": {
     "base_uri": "https://localhost:8080/",
     "height": 482
    },
    "id": "CijPH08meSRh",
    "outputId": "b5df0864-8b48-4925-cbaa-66fd717b795d"
   },
   "outputs": [],
   "source": [
    "raman_shifts.plot(x = 'Raman Shifts', y = 'Интенсивность', figsize=(15, 5))"
   ]
  },
  {
   "cell_type": "code",
   "execution_count": null,
   "metadata": {
    "id": "OUKqRjQqQTCk"
   },
   "outputs": [],
   "source": [
    "raman_shifts = pd.read_csv('data_input4/02_sick/image_tumor_patient20022019_633nm_obj20_power100_1sec_сenter2900_step4um_place1_20200929_1_18.txt', sep=\"\\t\", header=None)\n",
    "raman_shifts.drop(columns=[2], inplace = True)\n",
    "raman_shifts.columns = [\"Raman Shifts\", \"Интенсивность\"]\n",
    "raman_shifts.drop(raman_shifts.head(1).index, inplace=True)\n",
    "raman_shifts[\"Raman Shifts\"] = pd.to_numeric(raman_shifts[\"Raman Shifts\"], errors='coerce').astype(np.int64)"
   ]
  },
  {
   "cell_type": "code",
   "execution_count": null,
   "metadata": {
    "colab": {
     "base_uri": "https://localhost:8080/",
     "height": 482
    },
    "id": "_b91kPAkUl_g",
    "outputId": "e1677606-63ce-44a8-ac5e-348d00decead"
   },
   "outputs": [],
   "source": [
    "raman_shifts.plot(x = 'Raman Shifts', y = 'Интенсивность', figsize=(15, 5), color = 'red')"
   ]
  },
  {
   "cell_type": "code",
   "execution_count": null,
   "metadata": {
    "colab": {
     "base_uri": "https://localhost:8080/"
    },
    "id": "024QWqNRSV88",
    "outputId": "b42c6282-a5af-42ed-a3ec-f1f1b4c37aeb"
   },
   "outputs": [],
   "source": [
    "raman_shifts[\"Raman Shifts\"].value_counts()"
   ]
  },
  {
   "cell_type": "code",
   "execution_count": null,
   "metadata": {
    "colab": {
     "base_uri": "https://localhost:8080/"
    },
    "id": "DAnxbR9MWxex",
    "outputId": "a6dc3ba3-750d-43c9-8292-3ac7f1fffe20"
   },
   "outputs": [],
   "source": [
    "RS = np.array(raman_shifts[\"Raman Shifts\"])\n",
    "RS"
   ]
  },
  {
   "cell_type": "markdown",
   "metadata": {
    "id": "eKTV0d30Tp6c"
   },
   "source": [
    "Все в единичном экземпляре, отлично"
   ]
  },
  {
   "cell_type": "code",
   "execution_count": null,
   "metadata": {
    "colab": {
     "base_uri": "https://localhost:8080/",
     "height": 488
    },
    "id": "J0AqOcTP6gl5",
    "outputId": "e701f38f-d5a7-4654-9211-eccc43f4e6c4"
   },
   "outputs": [],
   "source": [
    "df = pd.DataFrame(data = X)\n",
    "df.columns = RS\n",
    "df = df[RS[::-1]]\n",
    "target = pd.DataFrame(data = y)\n",
    "df['target'] = target[1]\n",
    "df"
   ]
  },
  {
   "cell_type": "code",
   "execution_count": null,
   "metadata": {
    "id": "fwKJishPVH0I"
   },
   "outputs": [],
   "source": [
    "health = df[df['target'] == 0]\n",
    "health = health.drop(['target'], axis=1)\n",
    "\n",
    "sick = df[df['target'] == 1]\n",
    "sick = sick.drop(['target'], axis=1)"
   ]
  },
  {
   "cell_type": "code",
   "execution_count": null,
   "metadata": {
    "id": "uvVW7ScNUzqr"
   },
   "outputs": [],
   "source": [
    "H = pd.DataFrame(health.mean())\n",
    "H['median'] = health.median()\n",
    "H['percentile_10'] = health.quantile(.10)\n",
    "H['percentile_90'] = health.quantile(.90)\n",
    "\n",
    "S = pd.DataFrame(sick.mean())\n",
    "S['median'] = sick.median()\n",
    "S['percentile_10'] = sick.quantile(.10)\n",
    "S['percentile_90'] = sick.quantile(.90)"
   ]
  },
  {
   "cell_type": "code",
   "execution_count": null,
   "metadata": {
    "colab": {
     "base_uri": "https://localhost:8080/",
     "height": 650
    },
    "id": "r7eGVffZpaoq",
    "outputId": "2b660d55-a8b2-463f-fe4e-df72ab236254"
   },
   "outputs": [],
   "source": [
    "plt.figure(figsize=(15, 7))\n",
    "\n",
    "plt.ylabel(\"Интенсивность\", fontsize=20)\n",
    "plt.xlabel(\"Raman Shifts\", fontsize=20)\n",
    "\n",
    "plt.title('Сравнение усредненных графиков Рамановской спектроскопии для здоровых и больных тканей')\n",
    "\n",
    "plt.plot(H.index, H[0], label='Здоровые')\n",
    "plt.plot(S.index, S[0], label='Больные', color = 'red')\n",
    "\n",
    "plt.legend(prop={'size': 20})"
   ]
  },
  {
   "cell_type": "code",
   "execution_count": null,
   "metadata": {
    "colab": {
     "base_uri": "https://localhost:8080/",
     "height": 650
    },
    "id": "YycAcTU9qW41",
    "outputId": "9b8022bd-3b47-42f8-aab5-5d8ba9dfa8ff"
   },
   "outputs": [],
   "source": [
    "plt.figure(figsize=(15, 7))\n",
    "\n",
    "plt.ylabel(\"Интенсивность\", fontsize=20)\n",
    "plt.xlabel(\"Raman Shifts\", fontsize=20)\n",
    "\n",
    "plt.title('Сравнение медиан графиков Рамановской спектроскопии для здоровых и больных тканей')\n",
    "\n",
    "plt.plot(H.index, H['median'], label='Здоровые')\n",
    "plt.plot(S.index, S['median'], label='Больные', color = 'red')\n",
    "\n",
    "plt.legend(prop={'size': 20})"
   ]
  },
  {
   "cell_type": "code",
   "execution_count": null,
   "metadata": {
    "colab": {
     "base_uri": "https://localhost:8080/",
     "height": 650
    },
    "id": "-o8b7fg_Yz7_",
    "outputId": "7cbb260e-5254-49ed-eba4-5556b2229364"
   },
   "outputs": [],
   "source": [
    "plt.figure(figsize=(15, 7))\n",
    "\n",
    "plt.ylabel(\"Интенсивность\", fontsize=20)\n",
    "plt.xlabel(\"Raman Shifts\", fontsize=20)\n",
    "\n",
    "plt.title('Здоровые ткани')\n",
    "\n",
    "plt.plot(H.index, H['percentile_90'], label='90% персцентиль', color = 'navy')\n",
    "plt.plot(H.index, H[0], label='Среднее', color = 'blue')\n",
    "plt.plot(H.index, H['median'], label='Медиана', color = 'royalblue')\n",
    "plt.plot(H.index, H['percentile_10'], label='10% персцентиль', color = 'cornflowerblue')\n",
    "\n",
    "plt.legend(prop={'size': 25})"
   ]
  },
  {
   "cell_type": "code",
   "execution_count": null,
   "metadata": {
    "colab": {
     "base_uri": "https://localhost:8080/",
     "height": 650
    },
    "id": "xu602Lm10s5J",
    "outputId": "c9c4023e-ebc9-4e67-d9dc-fe364d7ede6d"
   },
   "outputs": [],
   "source": [
    "plt.figure(figsize=(15, 7))\n",
    "\n",
    "plt.ylabel(\"Интенсивность\", fontsize=20)\n",
    "plt.xlabel(\"Raman Shifts\", fontsize=20)\n",
    "\n",
    "plt.title('Больные ткани')\n",
    "\n",
    "plt.plot(S.index, S['percentile_90'], label='90% персцентиль', color = 'brown')\n",
    "plt.plot(S.index, S[0], label='Среднее', color = 'red')\n",
    "plt.plot(S.index, S['median'], label='Медиана', color = 'orangered')\n",
    "plt.plot(S.index, S['percentile_10'], label='10% персцентиль', color = 'lightcoral')\n",
    "\n",
    "plt.legend(prop={'size': 25})"
   ]
  },
  {
   "cell_type": "code",
   "execution_count": null,
   "metadata": {
    "colab": {
     "base_uri": "https://localhost:8080/",
     "height": 650
    },
    "id": "FIP1tyf_0_21",
    "outputId": "658583c6-4e7c-4031-8eb2-af3f1256a526"
   },
   "outputs": [],
   "source": [
    "plt.figure(figsize=(15, 7))\n",
    "\n",
    "plt.ylabel(\"Интенсивность\", fontsize=20)\n",
    "plt.xlabel(\"Raman Shifts\", fontsize=20)\n",
    "\n",
    "plt.title('Здоровые ткани')\n",
    "\n",
    "plt.plot(H.index, H['percentile_90'], label='90% персцентиль здоровых', color = 'blue')\n",
    "plt.plot(H.index, H[0], label='Среднее')\n",
    "#plt.plot(H.index, H['median'], label='Медиана')\n",
    "#plt.plot(H.index, H['percentile_10'], label='10% персцентиль здоровых', color = 'cornflowerblue')\n",
    "\n",
    "plt.plot(S.index, S['percentile_90'], label='90% персцентиль больных', color = 'red')\n",
    "#plt.plot(S.index, S[0], label='Среднее')\n",
    "#plt.plot(S.index, S['median'], label='Медиана')\n",
    "plt.plot(S.index, S['percentile_10'], label='10% персцентиль больных', color = 'lightcoral')\n",
    "\n",
    "plt.legend(prop={'size': 17})"
   ]
  },
  {
   "cell_type": "code",
   "execution_count": null,
   "metadata": {
    "colab": {
     "base_uri": "https://localhost:8080/"
    },
    "id": "AIbLS0GKY_Qh",
    "outputId": "5a35bbc4-4369-4b3c-f3f5-6d1d3b43b8c2"
   },
   "outputs": [],
   "source": [
    "df['target'].value_counts()"
   ]
  },
  {
   "cell_type": "markdown",
   "metadata": {
    "id": "L0qjQr3opFMy"
   },
   "source": [
    "# 3. Classic ML"
   ]
  },
  {
   "cell_type": "code",
   "execution_count": null,
   "metadata": {
    "id": "LF2nIgA9AFaV"
   },
   "outputs": [],
   "source": [
    "X = df.drop(['target'], axis=1)\n",
    "y = df['target']"
   ]
  },
  {
   "cell_type": "code",
   "execution_count": null,
   "metadata": {
    "id": "F6GLo0aRAFdW"
   },
   "outputs": [],
   "source": [
    "from sklearn.model_selection import train_test_split\n",
    "\n",
    "X_train, X_test, y_train, y_test = train_test_split(X, y, test_size=0.2, random_state=42)"
   ]
  },
  {
   "cell_type": "code",
   "execution_count": null,
   "metadata": {
    "colab": {
     "base_uri": "https://localhost:8080/"
    },
    "id": "rs7H6zSYAFgS",
    "outputId": "8fb0eb88-fe95-4edf-be24-e8adc001b7fb"
   },
   "outputs": [],
   "source": [
    "print(f'Total amount of train measurements: {X_train.shape}')\n",
    "print(f'Total amount of train labels: {y_train.shape}')\n",
    "print(f'Total amount of test measurements: {X_test.shape}')\n",
    "print(f'Total amount of test labels: {y_test.shape}')"
   ]
  },
  {
   "cell_type": "markdown",
   "metadata": {
    "id": "eIYyFAp_-Tz1"
   },
   "source": [
    "## 3.1 Logistic regression"
   ]
  },
  {
   "cell_type": "code",
   "execution_count": null,
   "metadata": {
    "id": "uPOqvs-8-o7M"
   },
   "outputs": [],
   "source": [
    "from sklearn import preprocessing\n",
    "from sklearn.linear_model import LogisticRegression\n",
    "\n",
    "from sklearn.metrics import f1_score\n",
    "from sklearn.metrics import accuracy_score"
   ]
  },
  {
   "cell_type": "code",
   "execution_count": null,
   "metadata": {
    "colab": {
     "base_uri": "https://localhost:8080/",
     "height": 75
    },
    "id": "PcENyN5BAyz5",
    "outputId": "b4563144-978b-48ab-8f7c-de06e491a3fc"
   },
   "outputs": [],
   "source": [
    "LogReg = LogisticRegression(solver='lbfgs', max_iter=100000)\n",
    "LogReg.fit(X_train, y_train)"
   ]
  },
  {
   "cell_type": "code",
   "execution_count": null,
   "metadata": {
    "colab": {
     "base_uri": "https://localhost:8080/"
    },
    "id": "ZO3evp6-A_W2",
    "outputId": "79dfe018-175a-42bb-e6fc-44017beac124"
   },
   "outputs": [],
   "source": [
    "y_pred_lr = LogReg.predict(X_test)\n",
    "\n",
    "print(f'Logistic Regression F1 Score {f1_score(y_test, y_pred_lr)}')\n",
    "print(f'Logistic Regression Accuracy {accuracy_score(y_test, y_pred_lr)}')"
   ]
  },
  {
   "cell_type": "code",
   "execution_count": null,
   "metadata": {
    "colab": {
     "base_uri": "https://localhost:8080/"
    },
    "id": "BjKaZmddNSoD",
    "outputId": "9f5af1f8-8b1f-4c97-e090-a3e150491b68"
   },
   "outputs": [],
   "source": [
    "y_test.value_counts()"
   ]
  },
  {
   "cell_type": "code",
   "execution_count": null,
   "metadata": {
    "colab": {
     "base_uri": "https://localhost:8080/",
     "height": 112
    },
    "id": "-PzdvT9rErX9",
    "outputId": "05da9561-23cd-46b6-e39c-729e8f781807"
   },
   "outputs": [],
   "source": [
    "from sklearn.metrics import confusion_matrix \n",
    "\n",
    "cm_lr = pd.DataFrame(confusion_matrix(y_test, y_pred_lr))\n",
    "cm_lr"
   ]
  },
  {
   "cell_type": "code",
   "execution_count": null,
   "metadata": {
    "colab": {
     "base_uri": "https://localhost:8080/"
    },
    "id": "7-HYECsnK7T7",
    "outputId": "76e3c48b-259e-4d44-fa61-a9df67149733"
   },
   "outputs": [],
   "source": [
    "sensitivity = cm_lr[0][0] / (cm_lr[0][0] + cm_lr[1][0])\n",
    "specificity = cm_lr[1][1] / (cm_lr[0][1] + cm_lr[1][1])\n",
    "\n",
    "print('Доля верно обнаруженных здоровых : ', sensitivity )\n",
    "print('Доля верно обнаруженных больных : ', specificity)"
   ]
  },
  {
   "cell_type": "code",
   "execution_count": null,
   "metadata": {
    "colab": {
     "base_uri": "https://localhost:8080/"
    },
    "id": "WQ_HAUr1MM2N",
    "outputId": "a145e06d-6189-4524-e287-d4c4688a3d24"
   },
   "outputs": [],
   "source": [
    "LR_metric = [accuracy_score(y_test, y_pred_lr), f1_score(y_test, y_pred_lr), specificity, sensitivity]\n",
    "LR_metric"
   ]
  },
  {
   "cell_type": "markdown",
   "metadata": {
    "id": "sImWmUfB-YXn"
   },
   "source": [
    "## 3.2 Support vector machine (SVM)"
   ]
  },
  {
   "cell_type": "code",
   "execution_count": null,
   "metadata": {
    "colab": {
     "base_uri": "https://localhost:8080/",
     "height": 75
    },
    "id": "R6rYEymGEwZg",
    "outputId": "e8c87d3b-0cb6-45d3-fc5a-3aa0b29e63ef"
   },
   "outputs": [],
   "source": [
    "from sklearn.svm import SVC\n",
    "\n",
    "SVM_rbf = SVC(kernel='rbf')\n",
    "SVM_rbf.fit(X_train, y_train)"
   ]
  },
  {
   "cell_type": "code",
   "execution_count": null,
   "metadata": {
    "colab": {
     "base_uri": "https://localhost:8080/"
    },
    "id": "nDYl9kx_Ezxl",
    "outputId": "498a30f2-ca10-4bb1-840d-bcf48368e986"
   },
   "outputs": [],
   "source": [
    "y_pred_svm_rbf = SVM_rbf.predict(X_test)\n",
    "\n",
    "print(f'Rbf SVM F1 Score {f1_score(y_test, y_pred_svm_rbf)}')\n",
    "print(f'Rbf SVM Accuracy {accuracy_score(y_test, y_pred_svm_rbf)}')"
   ]
  },
  {
   "cell_type": "markdown",
   "metadata": {
    "id": "W1diUTUzE5ND"
   },
   "source": [
    "Попробуем линейный SVM"
   ]
  },
  {
   "cell_type": "code",
   "execution_count": null,
   "metadata": {
    "colab": {
     "base_uri": "https://localhost:8080/",
     "height": 75
    },
    "id": "gZm_HSQt-pec",
    "outputId": "2dcf888d-8229-471e-cedc-0bb1a9b75792"
   },
   "outputs": [],
   "source": [
    "SVM_lnr = SVC(kernel='linear')\n",
    "SVM_lnr.fit(X_train, y_train)"
   ]
  },
  {
   "cell_type": "code",
   "execution_count": null,
   "metadata": {
    "colab": {
     "base_uri": "https://localhost:8080/"
    },
    "id": "73fGs_nF-piE",
    "outputId": "a93c8bfa-37d7-4a43-aa44-3902eb76db33"
   },
   "outputs": [],
   "source": [
    "y_pred_svm_lnr = SVM_lnr.predict(X_test)\n",
    "\n",
    "print(f'Linear SVM F1 Score {f1_score(y_test, y_pred_svm_lnr)}')\n",
    "print(f'Linear SVM Accuracy {accuracy_score(y_test, y_pred_svm_lnr)}')"
   ]
  },
  {
   "cell_type": "code",
   "execution_count": null,
   "metadata": {
    "colab": {
     "base_uri": "https://localhost:8080/",
     "height": 112
    },
    "id": "qPP5wM0pMrGc",
    "outputId": "106a8911-6e0b-4c4a-a397-e365e6f3c425"
   },
   "outputs": [],
   "source": [
    "cm_svm_lnr = pd.DataFrame(confusion_matrix(y_test, y_pred_svm_lnr))\n",
    "cm_svm_lnr"
   ]
  },
  {
   "cell_type": "code",
   "execution_count": null,
   "metadata": {
    "colab": {
     "base_uri": "https://localhost:8080/"
    },
    "id": "yIsK_RQCMtfj",
    "outputId": "5f6e6494-621b-42e9-b1cc-9432ec3d3edb"
   },
   "outputs": [],
   "source": [
    "sensitivity = cm_svm_lnr[0][0] / (cm_svm_lnr[0][0] + cm_svm_lnr[1][0])\n",
    "specificity = cm_svm_lnr[1][1] / (cm_svm_lnr[0][1] + cm_svm_lnr[1][1])\n",
    "\n",
    "print('Доля верно обнаруженных здоровых : ', sensitivity )\n",
    "print('Доля верно обнаруженных больных : ', specificity)"
   ]
  },
  {
   "cell_type": "code",
   "execution_count": null,
   "metadata": {
    "colab": {
     "base_uri": "https://localhost:8080/"
    },
    "id": "4x3KWCGmMrLh",
    "outputId": "23d022bb-e0ab-4f52-b22f-b13d7cb4e7cf"
   },
   "outputs": [],
   "source": [
    "SVM_metric = [accuracy_score(y_test, y_pred_svm_lnr), f1_score(y_test, y_pred_svm_lnr), specificity, sensitivity]\n",
    "SVM_metric"
   ]
  },
  {
   "cell_type": "markdown",
   "metadata": {
    "id": "XISAN-Ps-gjD"
   },
   "source": [
    "## 3.3 Random forest"
   ]
  },
  {
   "cell_type": "code",
   "execution_count": null,
   "metadata": {
    "colab": {
     "base_uri": "https://localhost:8080/",
     "height": 75
    },
    "id": "AnQYX66L-qDK",
    "outputId": "62a4ecd6-d0d4-4547-ac6f-8daf7be6e798"
   },
   "outputs": [],
   "source": [
    "from sklearn.ensemble import RandomForestClassifier\n",
    "\n",
    "RF = RandomForestClassifier()\n",
    "RF.fit(X_train, y_train)"
   ]
  },
  {
   "cell_type": "code",
   "execution_count": null,
   "metadata": {
    "colab": {
     "base_uri": "https://localhost:8080/"
    },
    "id": "EryFI-kV62dY",
    "outputId": "b08e2030-61e7-4f11-b03f-099c27b84186"
   },
   "outputs": [],
   "source": [
    "y_pred_rf = RF.predict(X_test)\n",
    "\n",
    "print(f'Random forest F1 Score {f1_score(y_test, y_pred_rf)}')\n",
    "print(f'Random forest Accuracy {accuracy_score(y_test, y_pred_rf)}')"
   ]
  },
  {
   "cell_type": "code",
   "execution_count": null,
   "metadata": {
    "colab": {
     "base_uri": "https://localhost:8080/",
     "height": 112
    },
    "id": "DwitNxz8ORVS",
    "outputId": "51ac4494-2834-4af5-8d61-14569e629223"
   },
   "outputs": [],
   "source": [
    "cm_rf = pd.DataFrame(confusion_matrix(y_test, y_pred_rf))\n",
    "cm_rf"
   ]
  },
  {
   "cell_type": "code",
   "execution_count": null,
   "metadata": {
    "colab": {
     "base_uri": "https://localhost:8080/"
    },
    "id": "bbfNzjOZOTDO",
    "outputId": "f39215ca-9822-4540-b7eb-f0a16c512eb1"
   },
   "outputs": [],
   "source": [
    "sensitivity = cm_rf[0][0] / (cm_rf[0][0] + cm_rf[1][0])\n",
    "specificity = cm_rf[1][1] / (cm_rf[0][1] + cm_rf[1][1])\n",
    "\n",
    "print('Доля верно обнаруженных здоровых : ', sensitivity )\n",
    "print('Доля верно обнаруженных больных : ', specificity)"
   ]
  },
  {
   "cell_type": "code",
   "execution_count": null,
   "metadata": {
    "colab": {
     "base_uri": "https://localhost:8080/"
    },
    "id": "4WOlkQQrOULE",
    "outputId": "7c1603ea-5eae-4846-9e63-d8b281481cfe"
   },
   "outputs": [],
   "source": [
    "RF_metric = [accuracy_score(y_test, y_pred_rf), f1_score(y_test, y_pred_rf), specificity, sensitivity]\n",
    "RF_metric"
   ]
  },
  {
   "cell_type": "markdown",
   "metadata": {
    "id": "h7WCCOAb-a9C"
   },
   "source": [
    "## 3.4 Catboost"
   ]
  },
  {
   "cell_type": "code",
   "execution_count": null,
   "metadata": {
    "colab": {
     "base_uri": "https://localhost:8080/"
    },
    "id": "Dy43EQ6G98K2",
    "outputId": "e0ce6dfd-7695-4324-b762-4900af8038dd"
   },
   "outputs": [],
   "source": [
    "from catboost import CatBoostClassifier\n",
    "\n",
    "CatBoost = CatBoostClassifier(verbose=False)\n",
    "CatBoost.fit(X_train, y_train)"
   ]
  },
  {
   "cell_type": "code",
   "execution_count": null,
   "metadata": {
    "colab": {
     "base_uri": "https://localhost:8080/"
    },
    "id": "ZsSPcx-67Req",
    "outputId": "56552439-8e8f-4e56-9965-ff92b1722e90"
   },
   "outputs": [],
   "source": [
    "y_pred_cb = CatBoost.predict(X_test)\n",
    "\n",
    "print(f'CatBoost F1 Score {f1_score(y_test, y_pred_cb)}')\n",
    "print(f'CatBoost Accuracy {accuracy_score(y_test, y_pred_cb)}')"
   ]
  },
  {
   "cell_type": "code",
   "execution_count": null,
   "metadata": {
    "colab": {
     "base_uri": "https://localhost:8080/"
    },
    "id": "Jg3xUwgFPH4r",
    "outputId": "d9eacfdb-d746-48db-94bb-011e7ea9002c"
   },
   "outputs": [],
   "source": [
    "cm_cb = pd.DataFrame(confusion_matrix(y_test, y_pred_cb))\n",
    "cm_cb"
   ]
  },
  {
   "cell_type": "code",
   "execution_count": null,
   "metadata": {
    "colab": {
     "base_uri": "https://localhost:8080/"
    },
    "id": "z0C-kmHFPH90",
    "outputId": "4f28ca03-5e6f-4250-8036-d6d619c4ff38"
   },
   "outputs": [],
   "source": [
    "sensitivity = cm_cb[0][0] / (cm_cb[0][0] + cm_cb[1][0])\n",
    "specificity = cm_cb[1][1] / (cm_cb[0][1] + cm_cb[1][1])\n",
    "\n",
    "print('Доля верно обнаруженных здоровых : ', sensitivity )\n",
    "print('Доля верно обнаруженных больных : ', specificity)"
   ]
  },
  {
   "cell_type": "code",
   "execution_count": null,
   "metadata": {
    "colab": {
     "base_uri": "https://localhost:8080/"
    },
    "id": "liSDayo2PIB9",
    "outputId": "e8dc9509-834a-46ba-ac85-c1a1e49b3db7"
   },
   "outputs": [],
   "source": [
    "CB_metric = [accuracy_score(y_test, y_pred_cb), f1_score(y_test, y_pred_cb), specificity, sensitivity]\n",
    "CB_metric"
   ]
  },
  {
   "cell_type": "markdown",
   "metadata": {
    "id": "b5twVjzK33ba"
   },
   "source": [
    "## 3.5 Ансамбль моделей"
   ]
  },
  {
   "cell_type": "markdown",
   "metadata": {
    "id": "r1T9shRS7mUL"
   },
   "source": [
    "Дадим CatBoost и RF вес 2, как лучшим моделям"
   ]
  },
  {
   "cell_type": "code",
   "execution_count": null,
   "metadata": {
    "colab": {
     "base_uri": "https://localhost:8080/"
    },
    "id": "aIBjHtyp3-Xh",
    "outputId": "4fe2e563-f5c8-4fc3-a2a7-c55b6505a906"
   },
   "outputs": [],
   "source": [
    "ensemble = pd.DataFrame(y_test)\n",
    "\n",
    "ensemble['sum'] = y_pred_lr * 1 + y_pred_svm_lnr * 1 + y_pred_rf * 2 + y_pred_cb * 2\n",
    "ensemble['target_pred'] = ensemble['sum'].apply ( lambda x: 0 if x < 0.5 else 1)\n",
    "\n",
    "ensemble"
   ]
  },
  {
   "cell_type": "code",
   "execution_count": null,
   "metadata": {
    "colab": {
     "base_uri": "https://localhost:8080/"
    },
    "id": "UM5FzddJFtoh",
    "outputId": "a1d523c2-f3e7-4322-ad1b-7e5d2768939e"
   },
   "outputs": [],
   "source": [
    "f1 = f1_score(ensemble['target'], ensemble['target_pred'])\n",
    "acc = accuracy_score(ensemble['target'], ensemble['target_pred'])\n",
    "\n",
    "print(f'Ensemble F1 Score {f1}')\n",
    "print(f'Ensemble Accuracy {acc}')"
   ]
  },
  {
   "cell_type": "code",
   "execution_count": null,
   "metadata": {
    "colab": {
     "base_uri": "https://localhost:8080/"
    },
    "id": "St1-b-8OTGcZ",
    "outputId": "ba742cb9-e9aa-4287-c634-ebfbc5099e22"
   },
   "outputs": [],
   "source": [
    "cm_ens = pd.DataFrame(confusion_matrix(ensemble['target'], ensemble['target_pred']))\n",
    "cm_ens"
   ]
  },
  {
   "cell_type": "code",
   "execution_count": null,
   "metadata": {
    "colab": {
     "base_uri": "https://localhost:8080/"
    },
    "id": "--QOb6Q-TM5k",
    "outputId": "6f15f620-af41-4a44-8fa0-1ccb0b8468b9"
   },
   "outputs": [],
   "source": [
    "sensitivity = cm_ens[0][0] / (cm_ens[0][0] + cm_ens[1][0])\n",
    "specificity = cm_ens[1][1] / (cm_ens[0][1] + cm_ens[1][1])\n",
    "\n",
    "print('Доля верно обнаруженных здоровых : ', sensitivity )\n",
    "print('Доля верно обнаруженных больных : ', specificity)"
   ]
  },
  {
   "cell_type": "code",
   "execution_count": null,
   "metadata": {
    "colab": {
     "base_uri": "https://localhost:8080/"
    },
    "id": "V9QjWGMlTGfY",
    "outputId": "e38fde46-9c40-4568-c811-125011918813"
   },
   "outputs": [],
   "source": [
    "ENS_1_metric = [acc, f1, specificity, sensitivity]\n",
    "ENS_1_metric"
   ]
  },
  {
   "cell_type": "markdown",
   "metadata": {
    "id": "EHa88gMw_UAm"
   },
   "source": [
    "выберем порог < 1.5"
   ]
  },
  {
   "cell_type": "code",
   "execution_count": null,
   "metadata": {
    "colab": {
     "base_uri": "https://localhost:8080/"
    },
    "id": "vGutkuwI_WUN",
    "outputId": "6fb569fb-33be-4264-f373-f19c5960854d"
   },
   "outputs": [],
   "source": [
    "ensemble = pd.DataFrame(y_test)\n",
    "\n",
    "ensemble['sum'] = y_pred_lr * 1 + y_pred_svm_lnr * 1 + y_pred_rf * 2 + y_pred_cb * 2\n",
    "ensemble['target_pred'] = ensemble['sum'].apply ( lambda x: 0 if x < 1.5 else 1)\n",
    "\n",
    "ensemble"
   ]
  },
  {
   "cell_type": "code",
   "execution_count": null,
   "metadata": {
    "colab": {
     "base_uri": "https://localhost:8080/"
    },
    "id": "c2TKXiJN_WYv",
    "outputId": "336daf52-1114-406d-f9d4-7f695c406e02"
   },
   "outputs": [],
   "source": [
    "f1 = f1_score(ensemble['target'], ensemble['target_pred'])\n",
    "acc = accuracy_score(ensemble['target'], ensemble['target_pred'])\n",
    "\n",
    "print(f'Ensemble F1 Score {f1}')\n",
    "print(f'Ensemble Accuracy {acc}')"
   ]
  },
  {
   "cell_type": "code",
   "execution_count": null,
   "metadata": {
    "colab": {
     "base_uri": "https://localhost:8080/"
    },
    "id": "7UJyM8eQ_Wcw",
    "outputId": "2b0e21bb-c05c-417c-c78a-231d90dfa6ba"
   },
   "outputs": [],
   "source": [
    "cm_ens = pd.DataFrame(confusion_matrix(ensemble['target'], ensemble['target_pred']))\n",
    "cm_ens"
   ]
  },
  {
   "cell_type": "code",
   "execution_count": null,
   "metadata": {
    "colab": {
     "base_uri": "https://localhost:8080/"
    },
    "id": "hYFYUM9t_Wx3",
    "outputId": "8e640417-4692-4690-c36d-efbfccc7fd2c"
   },
   "outputs": [],
   "source": [
    "sensitivity = cm_ens[0][0] / (cm_ens[0][0] + cm_ens[1][0])\n",
    "specificity = cm_ens[1][1] / (cm_ens[0][1] + cm_ens[1][1])\n",
    "\n",
    "print('Доля верно обнаруженных здоровых : ', sensitivity )\n",
    "print('Доля верно обнаруженных больных : ', specificity)"
   ]
  },
  {
   "cell_type": "code",
   "execution_count": null,
   "metadata": {
    "colab": {
     "base_uri": "https://localhost:8080/"
    },
    "id": "jgC7xPRG_W1i",
    "outputId": "781bd9c9-a606-48f3-8c9d-b66cfa1d1f20"
   },
   "outputs": [],
   "source": [
    "ENS_2_metric = [acc, f1, specificity, sensitivity]\n",
    "ENS_2_metric"
   ]
  },
  {
   "cell_type": "markdown",
   "metadata": {
    "id": "-PDhbvXXR8u4"
   },
   "source": [
    "выберем порог < 2.5"
   ]
  },
  {
   "cell_type": "code",
   "execution_count": null,
   "metadata": {
    "colab": {
     "base_uri": "https://localhost:8080/"
    },
    "id": "7QpnPRoySBHY",
    "outputId": "c07a7d1f-41d3-4d3b-e767-8500c5ebe6af"
   },
   "outputs": [],
   "source": [
    "ensemble = pd.DataFrame(y_test)\n",
    "\n",
    "ensemble['sum'] = y_pred_lr * 1 + y_pred_svm_lnr * 1 + y_pred_rf * 2 + y_pred_cb * 2\n",
    "ensemble['target_pred'] = ensemble['sum'].apply ( lambda x: 0 if x < 2.5 else 1)\n",
    "\n",
    "ensemble"
   ]
  },
  {
   "cell_type": "code",
   "execution_count": null,
   "metadata": {
    "colab": {
     "base_uri": "https://localhost:8080/"
    },
    "id": "odddk_--SBRf",
    "outputId": "6121b252-bf54-4b91-e5a4-8307dba24bd2"
   },
   "outputs": [],
   "source": [
    "f1 = f1_score(ensemble['target'], ensemble['target_pred'])\n",
    "acc = accuracy_score(ensemble['target'], ensemble['target_pred'])\n",
    "\n",
    "print(f'Ensemble F1 Score {f1}')\n",
    "print(f'Ensemble Accuracy {acc}')"
   ]
  },
  {
   "cell_type": "code",
   "execution_count": null,
   "metadata": {
    "colab": {
     "base_uri": "https://localhost:8080/"
    },
    "id": "EL1CEtj3SDjM",
    "outputId": "69a66fc1-51aa-4a5d-f184-7f6be70b3cf6"
   },
   "outputs": [],
   "source": [
    "cm_ens = pd.DataFrame(confusion_matrix(ensemble['target'], ensemble['target_pred']))\n",
    "cm_ens"
   ]
  },
  {
   "cell_type": "code",
   "execution_count": null,
   "metadata": {
    "colab": {
     "base_uri": "https://localhost:8080/"
    },
    "id": "DQbt0xjHSBXV",
    "outputId": "4f00a67d-ca2a-4537-ee0a-13dd4501cff1"
   },
   "outputs": [],
   "source": [
    "sensitivity = cm_ens[0][0] / (cm_ens[0][0] + cm_ens[1][0])\n",
    "specificity = cm_ens[1][1] / (cm_ens[0][1] + cm_ens[1][1])\n",
    "\n",
    "print('Доля верно обнаруженных здоровых : ', sensitivity )\n",
    "print('Доля верно обнаруженных больных : ', specificity)"
   ]
  },
  {
   "cell_type": "code",
   "execution_count": null,
   "metadata": {
    "colab": {
     "base_uri": "https://localhost:8080/"
    },
    "id": "-aKC9-w1SHb_",
    "outputId": "e24b7f04-538c-4ccf-c3b4-830850b68544"
   },
   "outputs": [],
   "source": [
    "ENS_3_metric = [acc, f1, specificity, sensitivity]\n",
    "ENS_3_metric"
   ]
  },
  {
   "cell_type": "markdown",
   "metadata": {
    "id": "X9MlIaF7e2Tw"
   },
   "source": [
    "Выберем порог < 3.5"
   ]
  },
  {
   "cell_type": "code",
   "execution_count": null,
   "metadata": {
    "colab": {
     "base_uri": "https://localhost:8080/"
    },
    "id": "_J3PwWJ4e3cL",
    "outputId": "28d549ba-a5a5-4c92-d2fe-e67c07744ed5"
   },
   "outputs": [],
   "source": [
    "ensemble = pd.DataFrame(y_test)\n",
    "\n",
    "ensemble['sum'] = y_pred_lr * 1 + y_pred_svm_lnr * 1 + y_pred_rf * 2 + y_pred_cb * 2\n",
    "ensemble['target_pred'] = ensemble['sum'].apply ( lambda x: 0 if x < 3.5 else 1)\n",
    "\n",
    "ensemble"
   ]
  },
  {
   "cell_type": "code",
   "execution_count": null,
   "metadata": {
    "colab": {
     "base_uri": "https://localhost:8080/"
    },
    "id": "0sV-eGQJe3hL",
    "outputId": "830dc13c-0ce7-4614-8506-8ae8c5b30477"
   },
   "outputs": [],
   "source": [
    "f1 = f1_score(ensemble['target'], ensemble['target_pred'])\n",
    "acc = accuracy_score(ensemble['target'], ensemble['target_pred'])\n",
    "\n",
    "print(f'Ensemble F1 Score {f1}')\n",
    "print(f'Ensemble Accuracy {acc}')"
   ]
  },
  {
   "cell_type": "code",
   "execution_count": null,
   "metadata": {
    "colab": {
     "base_uri": "https://localhost:8080/"
    },
    "id": "8Xvy3hbhe3l5",
    "outputId": "2128de56-8b6f-4290-804a-458704e0d7db"
   },
   "outputs": [],
   "source": [
    "cm_ens = pd.DataFrame(confusion_matrix(ensemble['target'], ensemble['target_pred']))\n",
    "cm_ens"
   ]
  },
  {
   "cell_type": "code",
   "execution_count": null,
   "metadata": {
    "colab": {
     "base_uri": "https://localhost:8080/"
    },
    "id": "eTOn5BPue8__",
    "outputId": "4ace3981-267d-4200-8cd7-d632d1fa0f5f"
   },
   "outputs": [],
   "source": [
    "sensitivity = cm_ens[0][0] / (cm_ens[0][0] + cm_ens[1][0])\n",
    "specificity = cm_ens[1][1] / (cm_ens[0][1] + cm_ens[1][1])\n",
    "\n",
    "print('Доля верно обнаруженных здоровых : ', sensitivity )\n",
    "print('Доля верно обнаруженных больных : ', specificity)"
   ]
  },
  {
   "cell_type": "code",
   "execution_count": null,
   "metadata": {
    "colab": {
     "base_uri": "https://localhost:8080/"
    },
    "id": "_89QBmm4e4OJ",
    "outputId": "48b22673-5cd4-41f7-8904-2419d77845e1"
   },
   "outputs": [],
   "source": [
    "ENS_4_metric = [acc, f1, specificity, sensitivity]\n",
    "ENS_4_metric"
   ]
  },
  {
   "cell_type": "markdown",
   "metadata": {
    "id": "YONrEKQ7WL5V"
   },
   "source": [
    "выберем порог < 4.5"
   ]
  },
  {
   "cell_type": "code",
   "execution_count": null,
   "metadata": {
    "colab": {
     "base_uri": "https://localhost:8080/"
    },
    "id": "i60CWtwuWKI3",
    "outputId": "2eb12502-2cc9-4bd8-c16d-67c2a203fcf4"
   },
   "outputs": [],
   "source": [
    "ensemble = pd.DataFrame(y_test)\n",
    "\n",
    "ensemble['sum'] = y_pred_lr * 1 + y_pred_svm_lnr * 1 + y_pred_rf * 2 + y_pred_cb * 2\n",
    "ensemble['target_pred'] = ensemble['sum'].apply ( lambda x: 0 if x < 4.5 else 1)\n",
    "\n",
    "ensemble"
   ]
  },
  {
   "cell_type": "code",
   "execution_count": null,
   "metadata": {
    "colab": {
     "base_uri": "https://localhost:8080/"
    },
    "id": "ggkx6VFJWSVi",
    "outputId": "a9482a49-c631-4ce3-fafc-da724ffd155a"
   },
   "outputs": [],
   "source": [
    "f1 = f1_score(ensemble['target'], ensemble['target_pred'])\n",
    "acc = accuracy_score(ensemble['target'], ensemble['target_pred'])\n",
    "\n",
    "print(f'Ensemble F1 Score {f1}')\n",
    "print(f'Ensemble Accuracy {acc}')"
   ]
  },
  {
   "cell_type": "code",
   "execution_count": null,
   "metadata": {
    "colab": {
     "base_uri": "https://localhost:8080/"
    },
    "id": "zh0xmcF6WSlj",
    "outputId": "28efbebe-b7dc-421b-c9f1-06c56ada1fa2"
   },
   "outputs": [],
   "source": [
    "cm_ens = pd.DataFrame(confusion_matrix(ensemble['target'], ensemble['target_pred']))\n",
    "cm_ens"
   ]
  },
  {
   "cell_type": "code",
   "execution_count": null,
   "metadata": {
    "colab": {
     "base_uri": "https://localhost:8080/"
    },
    "id": "eII7vUBdWXxV",
    "outputId": "ff0475b8-bf15-4e06-d2ff-c308b0a2ac7d"
   },
   "outputs": [],
   "source": [
    "sensitivity = cm_ens[0][0] / (cm_ens[0][0] + cm_ens[1][0])\n",
    "specificity = cm_ens[1][1] / (cm_ens[0][1] + cm_ens[1][1])\n",
    "\n",
    "print('Доля верно обнаруженных здоровых : ', sensitivity )\n",
    "print('Доля верно обнаруженных больных : ', specificity)"
   ]
  },
  {
   "cell_type": "code",
   "execution_count": null,
   "metadata": {
    "colab": {
     "base_uri": "https://localhost:8080/"
    },
    "id": "bJp0U-rmWTEN",
    "outputId": "8715a603-8adf-4aab-83b5-3897015143e0"
   },
   "outputs": [],
   "source": [
    "ENS_5_metric = [acc, f1, specificity, sensitivity]\n",
    "ENS_5_metric"
   ]
  },
  {
   "cell_type": "markdown",
   "metadata": {
    "id": "AUfbxwA5VIhb"
   },
   "source": [
    "## 3.6 Результаты"
   ]
  },
  {
   "cell_type": "code",
   "execution_count": null,
   "metadata": {
    "colab": {
     "base_uri": "https://localhost:8080/"
    },
    "id": "qitdw13cVMir",
    "outputId": "07cf97dd-e8e1-45f3-f154-749a95402977"
   },
   "outputs": [],
   "source": [
    "res_all = pd.DataFrame()\n",
    "\n",
    "res_all['LR'] = LR_metric\n",
    "res_all['SVM'] = SVM_metric\n",
    "res_all['RF_all'] = RF_metric\n",
    "res_all['CB'] = CB_metric\n",
    "res_all['ENS_1'] = ENS_1_metric\n",
    "res_all['ENS_2'] = ENS_2_metric\n",
    "res_all['ENS_3'] = ENS_3_metric\n",
    "res_all['ENS_4'] = ENS_4_metric\n",
    "res_all['ENS_5'] = ENS_5_metric\n",
    "\n",
    "res_all.index = ['Точность', 'F1 мера', 'Доля верно обнаруженных больных', 'Доля верно обнаруженных здоровых']\n",
    "res_all = res.round(3)\n",
    "res_all"
   ]
  },
  {
   "cell_type": "code",
   "execution_count": null,
   "metadata": {},
   "outputs": [],
   "source": [
    "res_classic_ml = res_all"
   ]
  },
  {
   "cell_type": "code",
   "execution_count": null,
   "metadata": {},
   "outputs": [],
   "source": [
    "res_classic_ml.to_csv('results/results_classic_ml.csv')  "
   ]
  },
  {
   "cell_type": "markdown",
   "metadata": {
    "id": "qJPIlO7V-uj8"
   },
   "source": [
    "# 4. Кластеризация без учителя"
   ]
  },
  {
   "cell_type": "markdown",
   "metadata": {
    "id": "lYAOVFg4ckK3"
   },
   "source": [
    "## 4.1. TSNE"
   ]
  },
  {
   "cell_type": "code",
   "execution_count": null,
   "metadata": {
    "colab": {
     "base_uri": "https://localhost:8080/"
    },
    "id": "kAp8wlFxDoeH",
    "outputId": "813ce11e-7081-4d05-cd90-076b83608501"
   },
   "outputs": [],
   "source": [
    "from sklearn.manifold import TSNE\n",
    "import matplotlib.pyplot as plt\n",
    "\n",
    "model = TSNE(learning_rate=100)\n",
    "\n",
    "transformed = model.fit_transform(X)\n",
    "\n",
    "# Представляем результат в двумерных координатах\n",
    "x_axis = transformed[:, 0]\n",
    "y_axis = transformed[:, 1]\n",
    "\n",
    "plt.scatter(x_axis, y_axis, c=y)\n",
    "plt.show()"
   ]
  },
  {
   "cell_type": "markdown",
   "metadata": {
    "id": "ilmoZUCjcryU"
   },
   "source": [
    "## 4.2. K-means"
   ]
  },
  {
   "cell_type": "code",
   "execution_count": null,
   "metadata": {
    "id": "o0u6_jvRToa2"
   },
   "outputs": [],
   "source": [
    "from sklearn.cluster import KMeans\n",
    "\n",
    "acc_sc = pd.Series()\n",
    "f1_scr = pd.Series()\n",
    "sensit = pd.Series()\n",
    "specif = pd.Series()\n",
    "\n",
    "iter = 50\n",
    "\n",
    "for i in range (2, iter):\n",
    "  model = KMeans(n_clusters=i)\n",
    "  model.fit(X)\n",
    "\n",
    "  all_predictions = model.predict(X)\n",
    "  A = pd.DataFrame(all_predictions)\n",
    "  A[1] = y\n",
    "\n",
    "  K1 = A[A[1] == 1]\n",
    "  s1 = set(K1[0])\n",
    "\n",
    "  K0 = A[A[1] == 0]\n",
    "  s0 = set(K0[0])\n",
    "\n",
    "  A['pred'] = A[0].apply(lambda x: 0 if ((x in s1) == False) else\n",
    "                                   1 if ((x in s0) == False) else\n",
    "                                   0 if (A.groupby([1, 0]).value_counts()[0, x] > A.groupby([1, 0]).value_counts()[1, x]) else 1)\n",
    "  \n",
    "  acc = accuracy_score(A[1], A['pred'])\n",
    "  f1 = f1_score(A[1], A['pred'])\n",
    "\n",
    "  cm = pd.DataFrame(confusion_matrix(A[1], A['pred']))\n",
    "  sensitivity = cm[0][0] / (cm[0][0] + cm[1][0])\n",
    "  specificity = cm[1][1] / (cm[0][1] + cm[1][1])\n",
    "\n",
    "  acc_sc[str(i)] = round(acc, 3)\n",
    "  f1_scr[str(i)] = round(f1, 3)\n",
    "  sensit[str(i)] = round(sensitivity, 3)\n",
    "  specif[str(i)] = round(specificity, 3)"
   ]
  },
  {
   "cell_type": "code",
   "execution_count": null,
   "metadata": {
    "id": "75PIjHULDFvv"
   },
   "outputs": [],
   "source": [
    "Res = pd.DataFrame()\n",
    "Res['Точность'] = acc_sc\n",
    "Res['F1 мера'] = f1_scr\n",
    "Res['Доля верно обнаруженных здоровых'] = sensit\n",
    "Res['Доля верно обнаруженных больных'] = specif"
   ]
  },
  {
   "cell_type": "code",
   "execution_count": null,
   "metadata": {
    "colab": {
     "base_uri": "https://localhost:8080/",
     "height": 881
    },
    "id": "JZ7TNi0YD36T",
    "outputId": "e457ec54-631c-4d54-90e1-a3b5b6c54b35"
   },
   "outputs": [],
   "source": [
    "plt.figure(figsize=(20, 10))\n",
    "#plt.xticks(rotation=30)\n",
    "\n",
    "plt.ylabel(\"Oценка\", fontsize=20)\n",
    "plt.xlabel(\"Количество кластеров в K-means\", fontsize=20)\n",
    "\n",
    "plt.title('Оценка метрик в зависимости от количества кластеров в K-means')\n",
    "\n",
    "plt.plot(Res.index, Res['F1 мера'], label='F1 мера')\n",
    "plt.plot(Res.index, Res['Точность'], label='Точность')\n",
    "plt.plot(Res.index, Res['Доля верно обнаруженных здоровых'], label='Доля верно обнаруженных здоровых')\n",
    "plt.plot(Res.index, Res['Доля верно обнаруженных больных'], label='Доля верно обнаруженных больных')\n",
    "\n",
    "plt.legend(prop={'size': 20})"
   ]
  },
  {
   "cell_type": "code",
   "execution_count": null,
   "metadata": {
    "colab": {
     "base_uri": "https://localhost:8080/",
     "height": 1000
    },
    "id": "oV3DUvDBDMB1",
    "outputId": "67fc007e-3513-4a38-ae03-79781a9ddf15"
   },
   "outputs": [],
   "source": [
    "Res.sort_values(by='F1 мера', ascending=False)"
   ]
  },
  {
   "cell_type": "code",
   "execution_count": null,
   "metadata": {
    "id": "X2cGsIFaloFK"
   },
   "outputs": [],
   "source": [
    "from sklearn.cluster import KMeans\n",
    "\n",
    "acc_sc = pd.Series()\n",
    "f1_scr = pd.Series()\n",
    "sensit = pd.Series()\n",
    "specif = pd.Series()\n",
    "\n",
    "iter = 50\n",
    "\n",
    "for i in range (15, iter):\n",
    "\n",
    "  acc = 0\n",
    "  f1 = 0\n",
    "  sensitivity = 0\n",
    "  specificity = 0\n",
    "\n",
    "  for j in range (10):\n",
    "    model = KMeans(n_clusters=i)\n",
    "    model.fit(X)\n",
    "\n",
    "    all_predictions = model.predict(X)\n",
    "    A = pd.DataFrame(all_predictions)\n",
    "    A[1] = y\n",
    "\n",
    "    K1 = A[A[1] == 1]\n",
    "    s1 = set(K1[0])\n",
    "\n",
    "    K0 = A[A[1] == 0]\n",
    "    s0 = set(K0[0])\n",
    "\n",
    "    A['pred'] = A[0].apply(lambda x: 0 if ((x in s1) == False) else\n",
    "                                     1 if ((x in s0) == False) else\n",
    "                                     0 if (A.groupby([1, 0]).value_counts()[0, x] > A.groupby([1, 0]).value_counts()[1, x]) else 1)\n",
    "  \n",
    "    acc += accuracy_score(A[1], A['pred'])\n",
    "    f1 += f1_score(A[1], A['pred'])\n",
    "\n",
    "    cm = pd.DataFrame(confusion_matrix(A[1], A['pred']))\n",
    "    sensitivity += cm[0][0] / (cm[0][0] + cm[1][0])\n",
    "    specificity += cm[1][1] / (cm[0][1] + cm[1][1])\n",
    "\n",
    "  acc_sc[str(i)] = round(acc / 10, 3)\n",
    "  f1_scr[str(i)] = round(f1 / 10, 3)\n",
    "  sensit[str(i)] = round(sensitivity / 10, 3)\n",
    "  specif[str(i)] = round(specificity / 10, 3)"
   ]
  },
  {
   "cell_type": "code",
   "execution_count": null,
   "metadata": {
    "id": "PkieRZyhnwH8"
   },
   "outputs": [],
   "source": [
    "Res = pd.DataFrame()\n",
    "Res['Точность'] = acc_sc\n",
    "Res['F1 мера'] = f1_scr\n",
    "Res['Доля верно обнаруженных здоровых'] = sensit\n",
    "Res['Доля верно обнаруженных больных'] = specif"
   ]
  },
  {
   "cell_type": "code",
   "execution_count": null,
   "metadata": {
    "colab": {
     "base_uri": "https://localhost:8080/",
     "height": 881
    },
    "id": "MswifIL0QArC",
    "outputId": "53beb0a0-b032-4e56-dc02-9f26abe676bd"
   },
   "outputs": [],
   "source": [
    "plt.figure(figsize=(20, 10))\n",
    "#plt.xticks(rotation=30)\n",
    "\n",
    "plt.ylabel(\"Oценка\", fontsize=20)\n",
    "plt.xlabel(\"Количество кластеров в K-means\", fontsize=20)\n",
    "\n",
    "plt.title('Оценка метрик в зависимости от количества кластеров в K-means')\n",
    "\n",
    "plt.plot(Res.index, Res['F1 мера'], label='F1 мера')\n",
    "plt.plot(Res.index, Res['Точность'], label='Точность')\n",
    "plt.plot(Res.index, Res['Доля верно обнаруженных здоровых'], label='Доля верно обнаруженных здоровых')\n",
    "plt.plot(Res.index, Res['Доля верно обнаруженных больных'], label='Доля верно обнаруженных больных')\n",
    "\n",
    "plt.legend(prop={'size': 20})"
   ]
  },
  {
   "cell_type": "code",
   "execution_count": null,
   "metadata": {
    "colab": {
     "base_uri": "https://localhost:8080/",
     "height": 677
    },
    "id": "eiHHMYdC7yFY",
    "outputId": "9199021a-db4e-4a13-dd25-e9937b04d587"
   },
   "outputs": [],
   "source": [
    "Res.sort_values(by='F1 мера', ascending=False).head(20)"
   ]
  },
  {
   "cell_type": "markdown",
   "metadata": {
    "id": "IorPz0jurXYL"
   },
   "source": [
    "Выводы"
   ]
  },
  {
   "cell_type": "code",
   "execution_count": null,
   "metadata": {
    "colab": {
     "base_uri": "https://localhost:8080/",
     "height": 175
    },
    "id": "QkZP4TWorcpZ",
    "outputId": "5c7f0343-d7cb-4250-f9c5-5e25bda1591d"
   },
   "outputs": [],
   "source": [
    "Best_3 = Res.sort_values(by='F1 мера', ascending=False).head(3)\n",
    "Best_3 = Best_3.T\n",
    "Best_3"
   ]
  },
  {
   "cell_type": "code",
   "execution_count": null,
   "metadata": {
    "colab": {
     "base_uri": "https://localhost:8080/",
     "height": 175
    },
    "id": "oS2FRMyIrnXg",
    "outputId": "29371ded-cc77-45ce-ceda-a5a309a84cfc"
   },
   "outputs": [],
   "source": [
    "Best_3.columns = ['K_means_1', 'K_means_2', 'K_means_3']\n",
    "res_all['K_means_1'] = Best_3['K_means_1']\n",
    "res_all['K_means_2'] = Best_3['K_means_2']\n",
    "res_all['K_means_3'] = Best_3['K_means_3']\n",
    "\n",
    "res_all = res_all.round(3)\n",
    "res_all"
   ]
  },
  {
   "cell_type": "code",
   "execution_count": null,
   "metadata": {
    "colab": {
     "base_uri": "https://localhost:8080/",
     "height": 175
    },
    "id": "Y6KXoUflb15S",
    "outputId": "67bf4207-1a02-4abe-b20f-b181d984fd9d"
   },
   "outputs": [],
   "source": [
    "res_K_means = res_all.drop(columns= ['LR', 'SVM','RF_all','CB', 'ENS_1', 'ENS_2', 'ENS_3', 'ENS_4', 'ENS_5'])"
   ]
  },
  {
   "cell_type": "code",
   "execution_count": null,
   "metadata": {},
   "outputs": [],
   "source": [
    "res_K_means"
   ]
  },
  {
   "cell_type": "code",
   "execution_count": null,
   "metadata": {
    "id": "0cA83kzrtVRl"
   },
   "outputs": [],
   "source": [
    "res_K_means.to_csv('results/result_K_means.csv') "
   ]
  },
  {
   "cell_type": "markdown",
   "metadata": {
    "id": "QT6uwvIo0a1l"
   },
   "source": [
    "# 5. Отбор признаков"
   ]
  },
  {
   "cell_type": "markdown",
   "metadata": {
    "id": "7UhNGH8hoDZh"
   },
   "source": [
    "## 5.1. Взаимная информация"
   ]
  },
  {
   "cell_type": "markdown",
   "metadata": {
    "id": "Auh__t0QKshn"
   },
   "source": [
    "Отберем 20 самых информативных Raman Shift"
   ]
  },
  {
   "cell_type": "code",
   "execution_count": null,
   "metadata": {
    "colab": {
     "base_uri": "https://localhost:8080/",
     "height": 867
    },
    "id": "nkejsYRo0eCx",
    "outputId": "908a1af4-12f3-4f51-f653-ede57c645379"
   },
   "outputs": [],
   "source": [
    "from sklearn.feature_selection import mutual_info_classif\n",
    "\n",
    "importances = mutual_info_classif(X, y)\n",
    "# Где data - ваш датасет; X, y – входные и выходные данные соответственно\n",
    "feature_importances = pd.Series(importances, df.columns[0:len(df.columns)-1])\n",
    "feature_importances = pd.DataFrame(feature_importances)\n",
    "feature_importances.columns = ['Importance']\n",
    "feature_importances['Raman Shift'] = feature_importances.index\n",
    "feature_importances.plot(x = 'Raman Shift', y = 'Importance', figsize=(20, 10))"
   ]
  },
  {
   "cell_type": "code",
   "execution_count": null,
   "metadata": {
    "colab": {
     "base_uri": "https://localhost:8080/",
     "height": 424
    },
    "id": "yGOQBH8R1ZYf",
    "outputId": "637b2680-8186-4aa8-e0b8-dc0c97dce2d7"
   },
   "outputs": [],
   "source": [
    "feature_importances = pd.DataFrame(feature_importances)\n",
    "feature_importances = feature_importances.sort_values(by=['Importance'], ascending=False)\n",
    "feature_importances.reset_index(inplace = True)\n",
    "feature_importances.drop('index', axis=1, inplace = True)\n",
    "feature_importances"
   ]
  },
  {
   "cell_type": "markdown",
   "metadata": {
    "id": "9qtmlLGTmKwa"
   },
   "source": [
    "Напишем функцию для отбора n лучших признаков"
   ]
  },
  {
   "cell_type": "code",
   "execution_count": null,
   "metadata": {
    "id": "hS7pMphsmQu8"
   },
   "outputs": [],
   "source": [
    "def df_best_n_features(n):\n",
    "\n",
    "  n_features = feature_importances.head(n)\n",
    "  best_n_ftr_list = list(n_features['Raman Shift'])\n",
    "\n",
    "  df_t = df.T\n",
    "  df_best_n_features = df_t.loc[best_n_ftr_list]\n",
    "  df_best_n_features = df_best_n_features.T\n",
    "  df_best_n_features['target'] = df.target\n",
    "\n",
    "  return(df_best_n_features)"
   ]
  },
  {
   "cell_type": "markdown",
   "metadata": {
    "id": "_cguOpCjNdQq"
   },
   "source": [
    "Оставим лучшие 50 признаков"
   ]
  },
  {
   "cell_type": "code",
   "execution_count": null,
   "metadata": {
    "colab": {
     "base_uri": "https://localhost:8080/",
     "height": 468
    },
    "id": "3Ylv2rNfnE1m",
    "outputId": "f602c309-6cdb-40bd-c3dc-ed50c5c004c0"
   },
   "outputs": [],
   "source": [
    "df_best_50_features = df_best_n_features(50)\n",
    "df_best_50_features"
   ]
  },
  {
   "cell_type": "code",
   "execution_count": null,
   "metadata": {
    "id": "MqH5eggRPH_w"
   },
   "outputs": [],
   "source": [
    "X_50 = df_best_50_features.drop(['target'], axis=1)\n",
    "y_50 = df_best_50_features['target']\n",
    "\n",
    "X_train_50, X_test_50, y_train_50, y_test_50 = train_test_split(X_50, y_50, test_size=0.2, random_state=42)"
   ]
  },
  {
   "cell_type": "code",
   "execution_count": null,
   "metadata": {
    "colab": {
     "base_uri": "https://localhost:8080/"
    },
    "id": "tSmZESXVO7Ds",
    "outputId": "b67bc25d-9e72-46f1-a800-c7ee081b19c9"
   },
   "outputs": [],
   "source": [
    "from sklearn.ensemble import RandomForestClassifier\n",
    "\n",
    "RF = RandomForestClassifier()\n",
    "RF.fit(X_train_50, y_train_50)\n",
    "\n",
    "y_pred_rf_50 = RF.predict(X_test_50)\n",
    "\n",
    "print(f'Random forest F1 Score на 50 признаках {f1_score(y_test_50, y_pred_rf_50)}')\n",
    "print(f'Random forest Accuracy на 50 признаках {accuracy_score(y_test_50, y_pred_rf_50)}')"
   ]
  },
  {
   "cell_type": "markdown",
   "metadata": {
    "id": "x3iUYNqRNmh0"
   },
   "source": [
    "Оставим лучшие 20 признаков"
   ]
  },
  {
   "cell_type": "code",
   "execution_count": null,
   "metadata": {
    "colab": {
     "base_uri": "https://localhost:8080/",
     "height": 468
    },
    "id": "8VqdntfnNrZv",
    "outputId": "19aa705f-39a7-44c8-9f80-8b389212ade3"
   },
   "outputs": [],
   "source": [
    "df_best_20_features = df_best_n_features(20)\n",
    "df_best_20_features"
   ]
  },
  {
   "cell_type": "code",
   "execution_count": null,
   "metadata": {
    "id": "gluGAgeFNrff"
   },
   "outputs": [],
   "source": [
    "X_20 = df_best_20_features.drop(['target'], axis=1)\n",
    "y_20 = df_best_20_features['target']\n",
    "\n",
    "X_train_20, X_test_20, y_train_20, y_test_20 = train_test_split(X_20, y_20, test_size=0.2, random_state=42)"
   ]
  },
  {
   "cell_type": "code",
   "execution_count": null,
   "metadata": {
    "colab": {
     "base_uri": "https://localhost:8080/"
    },
    "id": "UnhiehsgPUFk",
    "outputId": "9a288904-8ac3-4448-ff88-b6fee3b71f44"
   },
   "outputs": [],
   "source": [
    "RF.fit(X_train_20, y_train_20)\n",
    "\n",
    "y_pred_rf_20 = RF.predict(X_test_20)\n",
    "\n",
    "print(f'Random forest F1 Score на 20 признаках {f1_score(y_test_20, y_pred_rf_20)}')\n",
    "print(f'Random forest Accuracy на 20 признаках {accuracy_score(y_test_20, y_pred_rf_20)}')"
   ]
  },
  {
   "cell_type": "markdown",
   "metadata": {
    "id": "5Rexj6-wNswp"
   },
   "source": [
    "Оставим лучшие 10 признаков"
   ]
  },
  {
   "cell_type": "code",
   "execution_count": null,
   "metadata": {
    "colab": {
     "base_uri": "https://localhost:8080/",
     "height": 424
    },
    "id": "EyWacBGWNx2M",
    "outputId": "6b5133f9-0438-43aa-b9ca-c7d6abc70f9b"
   },
   "outputs": [],
   "source": [
    "df_best_10_features = df_best_n_features(10)\n",
    "df_best_10_features"
   ]
  },
  {
   "cell_type": "code",
   "execution_count": null,
   "metadata": {
    "id": "x9d7nGP6Nx6e"
   },
   "outputs": [],
   "source": [
    "X_10 = df_best_10_features.drop(['target'], axis=1)\n",
    "y_10 = df_best_10_features['target']\n",
    "\n",
    "X_train_10, X_test_10, y_train_10, y_test_10 = train_test_split(X_10, y_10, test_size=0.2, random_state=42)"
   ]
  },
  {
   "cell_type": "code",
   "execution_count": null,
   "metadata": {
    "colab": {
     "base_uri": "https://localhost:8080/"
    },
    "id": "73m9YIHJQg4c",
    "outputId": "53b80ffb-cfc9-42e1-a275-79fc434e87e8"
   },
   "outputs": [],
   "source": [
    "RF.fit(X_train_10, y_train_10)\n",
    "\n",
    "y_pred_rf_10 = RF.predict(X_test_10)\n",
    "\n",
    "print(f'Random forest F1 Score на 10 признаках {f1_score(y_test_10, y_pred_rf_10)}')\n",
    "print(f'Random forest Accuracy на 10 признаках {accuracy_score(y_test_10, y_pred_rf_10)}')"
   ]
  },
  {
   "cell_type": "markdown",
   "metadata": {
    "id": "wDefP7CGRX9Y"
   },
   "source": [
    "Оставим лучшие 5 признаков"
   ]
  },
  {
   "cell_type": "code",
   "execution_count": null,
   "metadata": {
    "colab": {
     "base_uri": "https://localhost:8080/",
     "height": 424
    },
    "id": "FNRnR6StRYqs",
    "outputId": "7787cd18-d215-4d2a-bdbc-008a6fc9e345"
   },
   "outputs": [],
   "source": [
    "df_best_5_features = df_best_n_features(5)\n",
    "df_best_5_features"
   ]
  },
  {
   "cell_type": "code",
   "execution_count": null,
   "metadata": {
    "id": "ytXGOqOCRYvo"
   },
   "outputs": [],
   "source": [
    "X_5 = df_best_5_features.drop(['target'], axis=1)\n",
    "y_5 = df_best_5_features['target']\n",
    "\n",
    "X_train_5, X_test_5, y_train_5, y_test_5 = train_test_split(X_5, y_5, test_size=0.2, random_state=42)"
   ]
  },
  {
   "cell_type": "code",
   "execution_count": null,
   "metadata": {
    "colab": {
     "base_uri": "https://localhost:8080/"
    },
    "id": "SZ7xrM9pRY1R",
    "outputId": "2c6fc8b9-0eb4-476e-f2db-98f4b54b238f"
   },
   "outputs": [],
   "source": [
    "RF.fit(X_train_5, y_train_5)\n",
    "\n",
    "y_pred_rf_5 = RF.predict(X_test_5)\n",
    "\n",
    "print(f'Random forest F1 Score на 5 признаках {f1_score(y_test_5, y_pred_rf_5)}')\n",
    "print(f'Random forest Accuracy на 5 признаках {accuracy_score(y_test_5, y_pred_rf_5)}')"
   ]
  },
  {
   "cell_type": "markdown",
   "metadata": {
    "id": "f5P9irCNUV0l"
   },
   "source": [
    "Напишем функцию для вывода оценки метрики по количеству лучших признаков"
   ]
  },
  {
   "cell_type": "code",
   "execution_count": null,
   "metadata": {
    "id": "hTPHFCXBsFFX"
   },
   "outputs": [],
   "source": [
    "def score_from_n_to_m_best_features(n, m):\n",
    "\n",
    "  bst_features = pd.DataFrame(index=range(n, m + 1),columns=['Random forest F1 Score', 'Random forest Accuracy'])\n",
    "\n",
    "  for i in range (n, m + 1):\n",
    "\n",
    "    f1_score_i = 0\n",
    "    accuracy_i = 0\n",
    "\n",
    "    df_best_i_features = df_best_n_features(i)\n",
    "\n",
    "    for j in range (10):\n",
    "      X_i = df_best_i_features.drop(['target'], axis=1)\n",
    "      y_i = df_best_i_features['target']\n",
    "      X_train_i, X_test_i, y_train_i, y_test_i = train_test_split(X_i, y_i, test_size=0.2, random_state=42)\n",
    "\n",
    "      RF.fit(X_train_i, y_train_i)\n",
    "      y_pred_rf_i = RF.predict(X_test_i)\n",
    "      f1_score_i += f1_score(y_test_i, y_pred_rf_i)\n",
    "      accuracy_i += accuracy_score(y_test_i, y_pred_rf_i)\n",
    "\n",
    "    bst_features['Random forest F1 Score'][i] = round(f1_score_i / 10, 3)\n",
    "    bst_features['Random forest Accuracy'][i] = round(accuracy_i / 10, 3)\n",
    "\n",
    "  return(bst_features)"
   ]
  },
  {
   "cell_type": "markdown",
   "metadata": {
    "id": "3e2vE58gdqzZ"
   },
   "source": [
    "Рассмотрим максимум 100 лучших признаков"
   ]
  },
  {
   "cell_type": "code",
   "execution_count": null,
   "metadata": {
    "colab": {
     "base_uri": "https://localhost:8080/",
     "height": 424
    },
    "id": "CDJDsTNCdRO2",
    "outputId": "0fb15f18-ad9f-4dc1-8b62-736c00ddc147"
   },
   "outputs": [],
   "source": [
    "bst_features_1_100 = score_from_n_to_m_best_features(1, 100)\n",
    "bst_features_1_100"
   ]
  },
  {
   "cell_type": "code",
   "execution_count": null,
   "metadata": {
    "colab": {
     "base_uri": "https://localhost:8080/",
     "height": 881
    },
    "id": "tnwaeVtvsikq",
    "outputId": "9a473885-7ac7-46f6-a217-1a105b8c7fc8"
   },
   "outputs": [],
   "source": [
    "plt.figure(figsize=(20, 10))\n",
    "#plt.xticks(rotation=30)\n",
    "\n",
    "plt.ylabel(\"Oценка Random Forest\", fontsize=20)\n",
    "plt.xlabel(\"Количество отобранных признаков\", fontsize=20)\n",
    "\n",
    "plt.title('Оценка метрик в зависимости от признаков')\n",
    "\n",
    "plt.plot(bst_features_1_100.index, bst_features_1_100['Random forest F1 Score'], label='Random Forest F1 Score')\n",
    "plt.plot(bst_features_1_100.index, bst_features_1_100['Random forest Accuracy'], label='Random Forest Accuracy')\n",
    "\n",
    "plt.legend(prop={'size': 30})"
   ]
  },
  {
   "cell_type": "markdown",
   "metadata": {
    "id": "Svs5NJkDi8Rn"
   },
   "source": [
    "Сократим с 1-100 до 5-30"
   ]
  },
  {
   "cell_type": "code",
   "execution_count": null,
   "metadata": {
    "colab": {
     "base_uri": "https://localhost:8080/",
     "height": 865
    },
    "id": "jV-ie9LLjDrN",
    "outputId": "6373fefc-fe08-415f-9b92-6bf9217d6991"
   },
   "outputs": [],
   "source": [
    "bst_features_5_30 = score_from_n_to_m_best_features(5, 30)\n",
    "bst_features_5_30"
   ]
  },
  {
   "cell_type": "code",
   "execution_count": null,
   "metadata": {
    "colab": {
     "base_uri": "https://localhost:8080/",
     "height": 434
    },
    "id": "7FuLYPKCjDwg",
    "outputId": "d3f3e505-34ee-4850-c153-669b8f04483f"
   },
   "outputs": [],
   "source": [
    "plt.figure(figsize=(11, 4))\n",
    "#plt.xticks(rotation=30)\n",
    "\n",
    "plt.ylabel(\"Oценка\")\n",
    "plt.xlabel(\"Количество отобранных признаков\")\n",
    "\n",
    "plt.title('Оценка метрик в зависимости от признаков')\n",
    "\n",
    "plt.plot(bst_features_5_30.index, bst_features_5_30['Random forest F1 Score'], label='Random forest F1 Score')\n",
    "plt.plot(bst_features_5_30.index, bst_features_5_30['Random forest Accuracy'], label='Random forest Accuracy')\n",
    "\n",
    "plt.legend()"
   ]
  },
  {
   "cell_type": "markdown",
   "metadata": {
    "id": "Vmt6_82CjRjK"
   },
   "source": [
    "Сократим с 5-30 до 5-15"
   ]
  },
  {
   "cell_type": "code",
   "execution_count": null,
   "metadata": {
    "colab": {
     "base_uri": "https://localhost:8080/",
     "height": 394
    },
    "id": "l43VMBd8jZCX",
    "outputId": "f17c2d1c-7ba0-4126-acf0-071fbaf224ff"
   },
   "outputs": [],
   "source": [
    "bst_features_5_15 = score_from_n_to_m_best_features(5, 15)\n",
    "bst_features_5_15"
   ]
  },
  {
   "cell_type": "code",
   "execution_count": null,
   "metadata": {
    "colab": {
     "base_uri": "https://localhost:8080/",
     "height": 881
    },
    "id": "jml3uYgbYVfn",
    "outputId": "e495c214-5190-4ada-89a9-26cd1c835e81"
   },
   "outputs": [],
   "source": [
    "plt.figure(figsize=(20, 10))\n",
    "#plt.xticks(rotation=30)\n",
    "\n",
    "plt.ylabel(\"Oценка Random Forest\", fontsize=20)\n",
    "plt.xlabel(\"Количество отобранных признаков\", fontsize=20)\n",
    "\n",
    "plt.title('Оценка метрик в зависимости от признаков')\n",
    "\n",
    "plt.plot(bst_features_5_15.index, bst_features_5_15['Random forest F1 Score'], label='Random Forest F1 Score')\n",
    "plt.plot(bst_features_5_15.index, bst_features_5_15['Random forest Accuracy'], label='Random Forest Accuracy')\n",
    "\n",
    "plt.legend(prop={'size': 30})"
   ]
  },
  {
   "cell_type": "markdown",
   "metadata": {
    "id": "MwTmc9FAkjHn"
   },
   "source": [
    "Видно падение на 7 поэтому рассмотрим 6-12"
   ]
  },
  {
   "cell_type": "code",
   "execution_count": null,
   "metadata": {
    "colab": {
     "base_uri": "https://localhost:8080/",
     "height": 269
    },
    "id": "bgITz9VhkwMT",
    "outputId": "bee743e0-b259-4e9b-dc06-b8a1f6622ea2"
   },
   "outputs": [],
   "source": [
    "bst_features_6_12 = score_from_n_to_m_best_features(6, 12)\n",
    "bst_features_6_12"
   ]
  },
  {
   "cell_type": "code",
   "execution_count": null,
   "metadata": {
    "colab": {
     "base_uri": "https://localhost:8080/",
     "height": 415
    },
    "id": "ZSqjHPlGkwSl",
    "outputId": "c8ec39f0-25e9-4cb2-daff-b42b9ccce242"
   },
   "outputs": [],
   "source": [
    "plt.figure(figsize=(11, 4))\n",
    "#plt.xticks(rotation=30)\n",
    "\n",
    "plt.ylabel(\"Oценка\")\n",
    "plt.xlabel(\"Количество отобранных признаков\")\n",
    "\n",
    "plt.title('Оценка метрик в зависимости от признаков')\n",
    "\n",
    "plt.plot(bst_features_6_12.index, bst_features_6_12['Random forest F1 Score'], label='Random forest F1 Score')\n",
    "plt.plot(bst_features_6_12.index, bst_features_6_12['Random forest Accuracy'], label='Random forest Accuracy')\n",
    "\n",
    "plt.legend()"
   ]
  },
  {
   "cell_type": "markdown",
   "metadata": {
    "id": "XGRQu1GKwyGQ"
   },
   "source": [
    "Проведя серию экспериментов, с усредненными результатами, видно что идеальным выбором будет 7 либо 10 признаков"
   ]
  },
  {
   "cell_type": "markdown",
   "metadata": {
    "id": "HYh3tZU-n91L"
   },
   "source": [
    "Рассмотрим метрики на 7 и 10 признаках"
   ]
  },
  {
   "cell_type": "code",
   "execution_count": null,
   "metadata": {
    "colab": {
     "base_uri": "https://localhost:8080/",
     "height": 424
    },
    "id": "VNmLASLhoAum",
    "outputId": "a80fc8b5-c0d4-47e7-afcc-edde43ef0008"
   },
   "outputs": [],
   "source": [
    "df_best_7_features = df_best_n_features(7)\n",
    "df_best_7_features"
   ]
  },
  {
   "cell_type": "code",
   "execution_count": null,
   "metadata": {
    "id": "L7eed4PQoFaX"
   },
   "outputs": [],
   "source": [
    "X_7 = df_best_7_features.drop(['target'], axis=1)\n",
    "y_7 = df_best_7_features['target']\n",
    "\n",
    "X_train_7, X_test_7, y_train_7, y_test_7 = train_test_split(X_7, y_7, test_size=0.2, random_state=42)"
   ]
  },
  {
   "cell_type": "code",
   "execution_count": null,
   "metadata": {
    "colab": {
     "base_uri": "https://localhost:8080/"
    },
    "id": "McWTwA3goJMc",
    "outputId": "c99ddf61-913b-45a8-dcb0-a41425826e9b"
   },
   "outputs": [],
   "source": [
    "RF.fit(X_train_7, y_train_7)\n",
    "y_pred_rf_7 = RF.predict(X_test_7)\n",
    "\n",
    "cm_rf_7 = pd.DataFrame(confusion_matrix(y_test, y_pred_rf_7))\n",
    "sensitivity = cm_rf_7[0][0] / (cm_rf_7[0][0] + cm_rf_7[1][0])\n",
    "specificity = cm_rf_7[1][1] / (cm_rf_7[0][1] + cm_rf_7[1][1])\n",
    "\n",
    "RF_7_metric = [accuracy_score(y_test_7, y_pred_rf_7), f1_score(y_test_7, y_pred_rf_7), specificity, sensitivity]\n",
    "RF_7_metric"
   ]
  },
  {
   "cell_type": "code",
   "execution_count": null,
   "metadata": {
    "colab": {
     "base_uri": "https://localhost:8080/"
    },
    "id": "aMEMhSucoceq",
    "outputId": "1a0cf151-47ae-4d01-9a69-8c39f96dd498"
   },
   "outputs": [],
   "source": [
    "RF.fit(X_train_10, y_train_10)\n",
    "y_pred_rf_10 = RF.predict(X_test_10)\n",
    "\n",
    "cm_rf_10 = pd.DataFrame(confusion_matrix(y_test, y_pred_rf_10))\n",
    "sensitivity = cm_rf_10[0][0] / (cm_rf_10[0][0] + cm_rf_10[1][0])\n",
    "specificity = cm_rf_10[1][1] / (cm_rf_10[0][1] + cm_rf_10[1][1])\n",
    "\n",
    "RF_10_metric = [accuracy_score(y_test_10, y_pred_rf_10), f1_score(y_test_10, y_pred_rf_10), specificity, sensitivity]\n",
    "RF_10_metric"
   ]
  },
  {
   "cell_type": "code",
   "execution_count": null,
   "metadata": {
    "colab": {
     "base_uri": "https://localhost:8080/",
     "height": 175
    },
    "id": "QEZgv6Wgpfqr",
    "outputId": "f99402ca-de3e-4cc9-82ff-5f9b836d75c0"
   },
   "outputs": [],
   "source": [
    "res_all['RF_best_7'] = RF_7_metric\n",
    "res_all['RF_best_10'] = RF_10_metric\n",
    "\n",
    "res_all = res.round(3)\n",
    "res_all"
   ]
  },
  {
   "cell_type": "code",
   "execution_count": null,
   "metadata": {
    "colab": {
     "base_uri": "https://localhost:8080/",
     "height": 175
    },
    "id": "eQFQp1TOp6A7",
    "outputId": "3e1104f9-a741-42d1-f959-4757dceddec6"
   },
   "outputs": [],
   "source": [
    "res_RF_best = res_all.drop(columns= ['LR', 'SVM', 'CB',\t'ENS_1', 'ENS_2', 'ENS_3', 'ENS_4',\t'ENS_5',\t'K_means_1',\t'K_means_2',\t'K_means_3'])"
   ]
  },
  {
   "cell_type": "code",
   "execution_count": null,
   "metadata": {},
   "outputs": [],
   "source": [
    "res_RF_best.to_csv('results/result_RF_best.csv') "
   ]
  },
  {
   "cell_type": "markdown",
   "metadata": {
    "id": "0xlu7WleoG-4"
   },
   "source": [
    "## 5.2. ExhaustiveFeatureSelector"
   ]
  },
  {
   "cell_type": "markdown",
   "metadata": {
    "id": "BEYe1P1HK17V"
   },
   "source": [
    "Рассмотрим все комбинации от 6 до 8 из 10 самых информативных Raman Shift"
   ]
  },
  {
   "cell_type": "code",
   "execution_count": null,
   "metadata": {
    "colab": {
     "base_uri": "https://localhost:8080/"
    },
    "id": "YGJ_A0w_2PmF",
    "outputId": "61035091-12b2-4113-f364-39e852a29085"
   },
   "outputs": [],
   "source": [
    "import joblib\n",
    "import sklearn\n",
    "\n",
    "sklearn.externals.joblib = joblib\n",
    "\n",
    "print(sklearn.externals.joblib)"
   ]
  },
  {
   "cell_type": "code",
   "execution_count": null,
   "metadata": {
    "id": "35g1oSqM-VqE"
   },
   "outputs": [],
   "source": [
    "import sys\n",
    "\n",
    "sys.modules['sklearn.externals.joblib'] = joblib"
   ]
  },
  {
   "cell_type": "code",
   "execution_count": null,
   "metadata": {
    "id": "SNOcDGXLK9Nj"
   },
   "outputs": [],
   "source": [
    "df_best_10_features = df_best_n_features(10)\n",
    "\n",
    "X_10 = df_best_10_features.drop(['target'], axis=1)\n",
    "y_10 = df_best_10_features['target']\n",
    "\n",
    "X_train_10, X_test_10, y_train_10, y_test_10 = train_test_split(X_10, y_10, test_size=0.2, random_state=42)"
   ]
  },
  {
   "cell_type": "code",
   "execution_count": null,
   "metadata": {
    "colab": {
     "base_uri": "https://localhost:8080/"
    },
    "id": "CwippXW-2HV7",
    "outputId": "a576aa73-2d78-4fee-d531-7b884f5d9ab9"
   },
   "outputs": [],
   "source": [
    "from mlxtend.feature_selection import ExhaustiveFeatureSelector\n",
    "from sklearn.ensemble import GradientBoostingClassifier\n",
    "\n",
    "# создаем ExhaustiveFeatureSeLlector объект.\n",
    "efs = ExhaustiveFeatureSelector(RandomForestClassifier(),\n",
    "        min_features=6,\n",
    "        max_features=8,\n",
    "        scoring='f1',\n",
    "        cv=2)\n",
    "\n",
    "efs = efs.fit(X_train_10, y_train_10)\n",
    "\n",
    "# выводим выбранные признаки\n",
    "selected_features = X_train_10.columns[list(efs.best_idx_)]\n",
    "print(selected_features)"
   ]
  },
  {
   "cell_type": "code",
   "execution_count": null,
   "metadata": {
    "colab": {
     "base_uri": "https://localhost:8080/",
     "height": 424
    },
    "id": "LVMu8GJJvz0k",
    "outputId": "b0a84234-92a8-4076-f50e-641d1cb4ec30"
   },
   "outputs": [],
   "source": [
    "df_t = df.T\n",
    "df_efs = df_t.loc[selected_features]\n",
    "df_efs = df_efs.T\n",
    "df_efs['target'] = df.target\n",
    "df_efs"
   ]
  },
  {
   "cell_type": "code",
   "execution_count": null,
   "metadata": {
    "id": "c-hJjjXWwRZr"
   },
   "outputs": [],
   "source": [
    "X_efs1 = df_efs.drop(['target'], axis=1)\n",
    "y_efs1 = df_efs['target']\n",
    "\n",
    "X_efs1_train, X_efs1_test, y_efs1_train, y_efs1_test = train_test_split(X_efs1, y_efs1, test_size=0.2, random_state=42)"
   ]
  },
  {
   "cell_type": "code",
   "execution_count": null,
   "metadata": {
    "colab": {
     "base_uri": "https://localhost:8080/"
    },
    "id": "vI5QRDmUwUnl",
    "outputId": "ff03d001-01b2-4344-d92f-196969cd3e3e"
   },
   "outputs": [],
   "source": [
    "RF = RandomForestClassifier()\n",
    "RF.fit(X_efs1_train, y_efs1_train)\n",
    "y_pred_efs1 = RF.predict(X_efs1_test)\n",
    "\n",
    "cm_rf_efs = pd.DataFrame(confusion_matrix(y_efs1_test, y_pred_efs1))\n",
    "sensitivity = cm_rf_efs[0][0] / (cm_rf_efs[0][0] + cm_rf_efs[1][0])\n",
    "specificity = cm_rf_efs[1][1] / (cm_rf_efs[0][1] + cm_rf_efs[1][1])\n",
    "\n",
    "RF_EFS_1_metric = [accuracy_score(y_efs1_test, y_pred_efs1), f1_score(y_efs1_test, y_pred_efs1), specificity, sensitivity]\n",
    "RF_EFS_1_metric"
   ]
  },
  {
   "cell_type": "markdown",
   "metadata": {
    "id": "Dz0_8RtWzNYF"
   },
   "source": [
    "рассмотрим все комбинации от 8 до 10 из 12 самых информативных Raman Shift"
   ]
  },
  {
   "cell_type": "code",
   "execution_count": null,
   "metadata": {
    "id": "vMZVeiW8tU9m"
   },
   "outputs": [],
   "source": [
    "df_best_12_features = df_best_n_features(12)\n",
    "\n",
    "X_12 = df_best_12_features.drop(['target'], axis=1)\n",
    "y_12 = df_best_12_features['target']\n",
    "\n",
    "X_train_12, X_test_12, y_train_12, y_test_12 = train_test_split(X_12, y_12, test_size=0.2, random_state=42)"
   ]
  },
  {
   "cell_type": "code",
   "execution_count": null,
   "metadata": {
    "colab": {
     "base_uri": "https://localhost:8080/"
    },
    "id": "qV9NYqPDtVBf",
    "outputId": "39e790e0-2847-49b7-ff4f-37c6c7a87986"
   },
   "outputs": [],
   "source": [
    "# создаем ExhaustiveFeatureSeLlector объект.\n",
    "efs = ExhaustiveFeatureSelector(RandomForestClassifier(),\n",
    "        min_features=8,\n",
    "        max_features=10,\n",
    "        scoring='roc_auc',\n",
    "        cv=2)\n",
    "\n",
    "efs = efs.fit(X_train_12, y_train_12)\n",
    "\n",
    "# выводим выбранные признаки\n",
    "selected_features = X_train_12.columns[list(efs.best_idx_)]\n",
    "print(selected_features)"
   ]
  },
  {
   "cell_type": "code",
   "execution_count": null,
   "metadata": {
    "colab": {
     "base_uri": "https://localhost:8080/",
     "height": 426
    },
    "id": "qny4Phz0tVGe",
    "outputId": "c83d292f-3061-4dd0-e042-625859c9e455"
   },
   "outputs": [],
   "source": [
    "feature_importances.head(12)"
   ]
  },
  {
   "cell_type": "code",
   "execution_count": null,
   "metadata": {
    "colab": {
     "base_uri": "https://localhost:8080/",
     "height": 424
    },
    "id": "1-KjuaG0xDbV",
    "outputId": "b94a8743-2e56-4a58-d719-30e77ac62846"
   },
   "outputs": [],
   "source": [
    "df_t = df.T\n",
    "df_efs = df_t.loc[selected_features]\n",
    "df_efs = df_efs.T\n",
    "df_efs['target'] = df.target\n",
    "df_efs"
   ]
  },
  {
   "cell_type": "code",
   "execution_count": null,
   "metadata": {
    "id": "ovrARbxOxAzv"
   },
   "outputs": [],
   "source": [
    "X_efs2 = df_efs.drop(['target'], axis=1)\n",
    "y_efs2 = df_efs['target']\n",
    "\n",
    "X_efs2_train, X_efs2_test, y_efs2_train, y_efs2_test = train_test_split(X_efs2, y_efs2, test_size=0.2, random_state=42)"
   ]
  },
  {
   "cell_type": "code",
   "execution_count": null,
   "metadata": {
    "colab": {
     "base_uri": "https://localhost:8080/"
    },
    "id": "q5bEYxzMxFyK",
    "outputId": "02c3c42f-8e12-47b8-a727-2927218d0249"
   },
   "outputs": [],
   "source": [
    "RF.fit(X_efs2_train, y_efs2_train)\n",
    "y_pred_efs2 = RF.predict(X_efs2_test)\n",
    "\n",
    "cm_rf_efs = pd.DataFrame(confusion_matrix(y_efs2_test, y_pred_efs2))\n",
    "sensitivity = cm_rf_efs[0][0] / (cm_rf_efs[0][0] + cm_rf_efs[1][0])\n",
    "specificity = cm_rf_efs[1][1] / (cm_rf_efs[0][1] + cm_rf_efs[1][1])\n",
    "\n",
    "RF_EFS_2_metric = [accuracy_score(y_efs2_test, y_pred_efs2), f1_score(y_efs2_test, y_pred_efs2), specificity, sensitivity]\n",
    "RF_EFS_2_metric"
   ]
  },
  {
   "cell_type": "code",
   "execution_count": null,
   "metadata": {
    "colab": {
     "base_uri": "https://localhost:8080/",
     "height": 175
    },
    "id": "-WOEBvY-xdp1",
    "outputId": "ad753059-8b91-44e7-f431-cdf81a1bc981"
   },
   "outputs": [],
   "source": [
    "res_all['RF_EFS_1_6'] = RF_EFS_1_metric\n",
    "res_all['RF_EFS_2_9'] = RF_EFS_2_metric\n",
    "\n",
    "res_all = res.round(3)\n",
    "res_all"
   ]
  },
  {
   "cell_type": "markdown",
   "metadata": {
    "id": "6FhUFi_aJ1I_"
   },
   "source": [
    "## 5.3. RFE"
   ]
  },
  {
   "cell_type": "code",
   "execution_count": null,
   "metadata": {
    "id": "2sIjMF8A1Oux"
   },
   "outputs": [],
   "source": [
    "from sklearn import preprocessing\n",
    "\n",
    "from sklearn.feature_selection import RFE"
   ]
  },
  {
   "cell_type": "code",
   "execution_count": null,
   "metadata": {
    "id": "MAoXjHxc0Li4"
   },
   "outputs": [],
   "source": [
    "def rfe_from_n_to_m_best_features_on_k_features(n, m, k):\n",
    "\n",
    "  rfe_bst_features = pd.DataFrame(index=range(n, m + 1),columns=['RFE F1 Score', 'RFE Accuracy'])\n",
    "\n",
    "  df_best_k_features = df_best_n_features(k)\n",
    "\n",
    "  X_k = df_best_k_features.drop(['target'], axis=1)\n",
    "  y_k = df_best_k_features['target']\n",
    "\n",
    "  X_train_k, X_test_k, y_train_k, y_test_k = train_test_split(X_k, y_k, test_size=0.2, random_state=42)\n",
    "\n",
    "  for i in range (n, m + 1):\n",
    "\n",
    "    _lr = LogisticRegression(class_weight = 'balanced', solver = 'lbfgs', random_state=42, n_jobs=-1, max_iter=10)\n",
    "\n",
    "    rfe = RFE(_lr, n_features_to_select=i)\n",
    "    rfe.fit(X_train_k, y_train_k)\n",
    "    # X_train, y_train - входные и выходные данные с обучающей выборки соответственно.\n",
    "    y_pred_rfe = rfe.predict(X_test_k)\n",
    "\n",
    "    f1_score_i = f1_score(y_test_k, y_pred_rfe)\n",
    "    accuracy_i = accuracy_score(y_test_k, y_pred_rfe)\n",
    "\n",
    "    #rfe_bst_features['RFE F1 Score'][i] = round(f1_score_i, 3)\n",
    "    #rfe_bst_features['RFE Accuracy'][i] = round(accuracy_i, 3)\n",
    "\n",
    "    rfe_bst_features['RFE F1 Score'][i] = f1_score_i\n",
    "    rfe_bst_features['RFE Accuracy'][i] = accuracy_i\n",
    "  return(rfe_bst_features)"
   ]
  },
  {
   "cell_type": "code",
   "execution_count": null,
   "metadata": {
    "colab": {
     "base_uri": "https://localhost:8080/",
     "height": 1000
    },
    "id": "MsIFuwsM1U76",
    "outputId": "6ff21205-5d62-4c29-8aa1-f8b781640a33"
   },
   "outputs": [],
   "source": [
    "bst_features_1_50 = rfe_from_n_to_m_best_features_on_k_features(1, 50, 50)\n",
    "bst_features_1_50"
   ]
  },
  {
   "cell_type": "code",
   "execution_count": null,
   "metadata": {
    "colab": {
     "base_uri": "https://localhost:8080/",
     "height": 881
    },
    "id": "7VzNQiDhyldc",
    "outputId": "56d37338-7379-4fd5-a1be-c93e0423e67d"
   },
   "outputs": [],
   "source": [
    "plt.figure(figsize=(20, 10))\n",
    "#plt.xticks(rotation=30)\n",
    "\n",
    "plt.ylabel(\"Oценка Random Forest\", fontsize=20)\n",
    "plt.xlabel(\"Количество отобранных признаков\", fontsize=20)\n",
    "\n",
    "plt.title('Оценка метрик в зависимости от признаков')\n",
    "\n",
    "plt.plot(bst_features_1_50.index, bst_features_1_50['RFE F1 Score'], label='RFE F1 Score')\n",
    "plt.plot(bst_features_1_50.index, bst_features_1_50['RFE Accuracy'], label='RFE Accuracy')\n",
    "\n",
    "plt.legend(prop={'size': 30})"
   ]
  },
  {
   "cell_type": "code",
   "execution_count": null,
   "metadata": {
    "colab": {
     "base_uri": "https://localhost:8080/",
     "height": 927
    },
    "id": "ICMfaSRzlD86",
    "outputId": "2e43636a-8920-449f-df94-bb54be4e294d"
   },
   "outputs": [],
   "source": [
    "bst_features_5_30 = rfe_from_n_to_m_best_features_on_k_features(3, 30, 50)\n",
    "bst_features_5_30"
   ]
  },
  {
   "cell_type": "code",
   "execution_count": null,
   "metadata": {
    "colab": {
     "base_uri": "https://localhost:8080/",
     "height": 881
    },
    "id": "deSnXUWJlHt-",
    "outputId": "7c8cd4e2-a669-4cd3-abde-9fe18c6ea4c6"
   },
   "outputs": [],
   "source": [
    "plt.figure(figsize=(20, 10))\n",
    "#plt.xticks(rotation=30)\n",
    "\n",
    "plt.ylabel(\"Oценка Random Forest\", fontsize=20)\n",
    "plt.xlabel(\"Количество отобранных признаков\", fontsize=20)\n",
    "\n",
    "\n",
    "plt.title('Оценка метрик в зависимости от признаков')\n",
    "\n",
    "plt.plot(bst_features_5_30.index, bst_features_5_30['RFE F1 Score'], label='RFE F1 Score')\n",
    "plt.plot(bst_features_5_30.index, bst_features_5_30['RFE Accuracy'], label='RFE Accuracy')\n",
    "\n",
    "plt.legend(prop={'size': 30})"
   ]
  },
  {
   "cell_type": "markdown",
   "metadata": {
    "id": "i1ThZgFoG6dt"
   },
   "source": [
    "Теперь посмотрим какие признаки встречались чаще всего"
   ]
  },
  {
   "cell_type": "code",
   "execution_count": null,
   "metadata": {
    "id": "m04esq5xUIUe"
   },
   "outputs": [],
   "source": [
    "def get_best_features(n, m, k):\n",
    "\n",
    "  get_bst_features = pd.DataFrame(0, index=range(1, k + 1), columns=['Sum'])\n",
    "\n",
    "  df_best_k_features = df_best_n_features(k)\n",
    "  X_k = df_best_k_features.drop(['target'], axis=1)\n",
    "  y_k = df_best_k_features['target']\n",
    "\n",
    "  X_train_k, X_test_k, y_train_k, y_test_k = train_test_split(X_k, y_k, test_size=0.2, random_state=42)\n",
    "\n",
    "  for i in range (n, m + 1):\n",
    "\n",
    "    _lr = LogisticRegression(class_weight = 'balanced', solver = 'lbfgs', random_state=42, n_jobs=-1, max_iter=10)\n",
    "\n",
    "    rfe = RFE(_lr, n_features_to_select=i)\n",
    "    rfe.fit(X_train_k, y_train_k)\n",
    "    # X_train, y_train - входные и выходные данные с обучающей выборки соответственно.\n",
    "    y_pred_rfe = rfe.predict(X_test_k)\n",
    "\n",
    "    F = pd.DataFrame(rfe.support_)\n",
    "    F = F.astype(int)\n",
    "    get_bst_features['Sum'] += F[0]  \n",
    "  return(get_bst_features)"
   ]
  },
  {
   "cell_type": "code",
   "execution_count": null,
   "metadata": {
    "colab": {
     "base_uri": "https://localhost:8080/",
     "height": 363
    },
    "id": "3WQARPtHWsIl",
    "outputId": "85f1a817-e027-4167-c6bc-2d739b4b21b3"
   },
   "outputs": [],
   "source": [
    "get_bst_features_5_20 = get_best_features(5, 15, 20)\n",
    "feat = feature_importances.head(20)\n",
    "best_20_ftr_list = list(feat['Raman Shift'])\n",
    "get_bst_features_5_20.index = best_20_ftr_list\n",
    "get_bst_features_5_20 = get_bst_features_5_20.sort_values(by='Sum', ascending=False)\n",
    "get_bst_features_5_20.head(10)"
   ]
  },
  {
   "cell_type": "code",
   "execution_count": null,
   "metadata": {
    "colab": {
     "base_uri": "https://localhost:8080/"
    },
    "id": "xZj3dd355dq-",
    "outputId": "30697bbd-4ae7-445b-c184-7499c4c6ee31"
   },
   "outputs": [],
   "source": [
    "get_bst_features_5_20.head(10).index"
   ]
  },
  {
   "cell_type": "code",
   "execution_count": null,
   "metadata": {
    "colab": {
     "base_uri": "https://localhost:8080/",
     "height": 424
    },
    "id": "i1DpBTD3a6fe",
    "outputId": "43694a34-1865-46e9-a589-f439f9c1947a"
   },
   "outputs": [],
   "source": [
    "ftr_list = [2276, 2310, 2188, 2313, 2297, 2254, 2296, 2317, 2262, 3273]\n",
    "df_t = df.T\n",
    "df_rfe = df_t.loc[ftr_list]\n",
    "df_rfe = df_rfe.T\n",
    "df_rfe['target'] = df.target\n",
    "df_rfe"
   ]
  },
  {
   "cell_type": "code",
   "execution_count": null,
   "metadata": {
    "id": "QI-zNe4F6AFr"
   },
   "outputs": [],
   "source": [
    "X_rfe = df_rfe.drop(['target'], axis=1)\n",
    "y_rfe = df_rfe['target']\n",
    "\n",
    "X_rfe_train, X_rfe_test, y_rfe_train, y_rfe_test = train_test_split(X_rfe, y_rfe, test_size=0.2, random_state=42)"
   ]
  },
  {
   "cell_type": "code",
   "execution_count": null,
   "metadata": {
    "colab": {
     "base_uri": "https://localhost:8080/"
    },
    "id": "_lN8Avaf8IAh",
    "outputId": "9232fbad-6362-4931-d6dd-188717572900"
   },
   "outputs": [],
   "source": [
    "RF = RandomForestClassifier()\n",
    "RF.fit(X_rfe_train, y_rfe_train)\n",
    "y_pred_rfe = RF.predict(X_rfe_test)\n",
    "\n",
    "cm_rf_rfe = pd.DataFrame(confusion_matrix(y_rfe_test, y_pred_rfe))\n",
    "sensitivity = cm_rf_rfe[0][0] / (cm_rf_rfe[0][0] + cm_rf_rfe[1][0])\n",
    "specificity = cm_rf_rfe[1][1] / (cm_rf_rfe[0][1] + cm_rf_rfe[1][1])\n",
    "\n",
    "RF_RFE_metric = [accuracy_score(y_rfe_test, y_pred_rfe), f1_score(y_rfe_test, y_pred_rfe), specificity, sensitivity]\n",
    "RF_RFE_metric"
   ]
  },
  {
   "cell_type": "code",
   "execution_count": null,
   "metadata": {
    "colab": {
     "base_uri": "https://localhost:8080/",
     "height": 175
    },
    "id": "SB0ycrwRbqDS",
    "outputId": "a136edea-2aaa-48ba-82bc-8eb1d5040ed7"
   },
   "outputs": [],
   "source": [
    "res_all['RFE'] = RF_RFE_metric\n",
    "res_all = res.round(3)\n",
    "res_all"
   ]
  },
  {
   "cell_type": "code",
   "execution_count": null,
   "metadata": {
    "colab": {
     "base_uri": "https://localhost:8080/",
     "height": 175
    },
    "id": "gIcZSYml-c5D",
    "outputId": "e192cfab-a5ec-4619-e710-509dbf08043d"
   },
   "outputs": [],
   "source": [
    "_res = res.drop(columns= ['LR', 'SVM', 'CB',\t'ENS_1', 'ENS_2', 'ENS_5',\t'ENS_4',\t'K_means_1',\t'K_means_2',\t'K_means_3'])\n",
    "_res.rename(columns = {'ВИ_7_лучших':'RF_ВИ_7', 'ВИ_10_лучших':'RF_ВИ_10', 'RF_EFS_1_6_признаков':'RF_EFS_6', 'RF_EFS_2_9_признаков':'RF_EFS_9'}, inplace = True )\n",
    "_res"
   ]
  },
  {
   "cell_type": "code",
   "execution_count": null,
   "metadata": {},
   "outputs": [],
   "source": []
  },
  {
   "cell_type": "markdown",
   "metadata": {
    "id": "Qlq8Y3h2KAXp"
   },
   "source": [
    "## 5.4. Random Forest Importance"
   ]
  },
  {
   "cell_type": "code",
   "execution_count": null,
   "metadata": {
    "colab": {
     "base_uri": "https://localhost:8080/",
     "height": 424
    },
    "id": "rpvpHAixg4IB",
    "outputId": "f2d1c44b-0cab-492e-9526-a3c2ce6d368b"
   },
   "outputs": [],
   "source": [
    "# создаем случайное дерево с вашими гипер параметрами\n",
    "model = RandomForestClassifier(n_estimators=100)\n",
    "\n",
    "# Обучаем модель на вашей выборке; Где X, y - входные и выходные данные соответственно.\n",
    "model.fit(X, y)\n",
    "\n",
    "# Подбираем самые важные признаки\n",
    "importances = model.feature_importances_\n",
    "\n",
    "# Создаем отдельный датасет для визуализации\n",
    "final_df = pd.DataFrame({\"Raman Shift\" : pd.DataFrame(X).columns, \"Importances\" : importances})\n",
    "final_df"
   ]
  },
  {
   "cell_type": "code",
   "execution_count": null,
   "metadata": {
    "colab": {
     "base_uri": "https://localhost:8080/",
     "height": 713
    },
    "id": "wIDY-emntari",
    "outputId": "fd531b20-2e39-4269-eaef-e06cc668e213"
   },
   "outputs": [],
   "source": [
    "final_df.plot(x = 'Raman Shift', y = 'Importances', figsize=(20, 8))"
   ]
  },
  {
   "cell_type": "code",
   "execution_count": null,
   "metadata": {
    "colab": {
     "base_uri": "https://localhost:8080/",
     "height": 424
    },
    "id": "eKirC3SqT3we",
    "outputId": "4a64247f-e500-483c-a874-9aeafd7eee3c"
   },
   "outputs": [],
   "source": [
    "final_df_sort = final_df.sort_values(by=['Importances'], ascending=False)\n",
    "final_df_sort"
   ]
  },
  {
   "cell_type": "code",
   "execution_count": null,
   "metadata": {
    "id": "EEng9fIPH98P"
   },
   "outputs": [],
   "source": [
    "def df_best_n_features_rfi(n):\n",
    "\n",
    "  n_features = final_df_sort.head(n)\n",
    "  best_n_ftr_list = list(n_features['Raman Shift'])\n",
    "\n",
    "  df_t = df.T\n",
    "  df_best_n_features = df_t.loc[best_n_ftr_list]\n",
    "  df_best_n_features = df_best_n_features.T\n",
    "  df_best_n_features['target'] = df.target\n",
    "\n",
    "  return(df_best_n_features)"
   ]
  },
  {
   "cell_type": "code",
   "execution_count": null,
   "metadata": {
    "id": "BKb8430yHb1U"
   },
   "outputs": [],
   "source": [
    "def score_from_n_to_m_best_features_rfi(n, m):\n",
    "\n",
    "  bst_features = pd.DataFrame(index=range(n, m + 1),columns=['RFI F1 Score', 'RFI Accuracy'])\n",
    "\n",
    "  for i in range (n, m + 1):\n",
    "\n",
    "    f1_score_i = 0\n",
    "    accuracy_i = 0\n",
    "\n",
    "    df_best_i_features = df_best_n_features_rfi(i)\n",
    "\n",
    "    for j in range (10):\n",
    "      X_i = df_best_i_features.drop(['target'], axis=1)\n",
    "      y_i = df_best_i_features['target']\n",
    "      X_train_i, X_test_i, y_train_i, y_test_i = train_test_split(X_i, y_i, test_size=0.2, random_state=42)\n",
    "\n",
    "      RF = RandomForestClassifier()\n",
    "      RF.fit(X_train_i, y_train_i)\n",
    "      y_pred_rf_i = RF.predict(X_test_i)\n",
    "      f1_score_i += f1_score(y_test_i, y_pred_rf_i)\n",
    "      accuracy_i += accuracy_score(y_test_i, y_pred_rf_i)\n",
    "\n",
    "    bst_features['RFI F1 Score'][i] = round(f1_score_i / 10, 3)\n",
    "    bst_features['RFI Accuracy'][i] = round(accuracy_i / 10, 3)\n",
    "\n",
    "  return(bst_features)"
   ]
  },
  {
   "cell_type": "code",
   "execution_count": null,
   "metadata": {
    "colab": {
     "base_uri": "https://localhost:8080/",
     "height": 1000
    },
    "id": "vBQ95op2IvfT",
    "outputId": "4828295f-760a-41d4-fe90-950ed9f38839"
   },
   "outputs": [],
   "source": [
    "rfi_1_50 = score_from_n_to_m_best_features_rfi(1, 50)\n",
    "rfi_1_50"
   ]
  },
  {
   "cell_type": "code",
   "execution_count": null,
   "metadata": {
    "colab": {
     "base_uri": "https://localhost:8080/",
     "height": 881
    },
    "id": "1ezxnpPAJxhZ",
    "outputId": "d0d818e3-7a1f-48d5-999d-62594c3da91a"
   },
   "outputs": [],
   "source": [
    "plt.figure(figsize=(20, 10))\n",
    "#plt.xticks(rotation=30)\n",
    "\n",
    "plt.ylabel(\"Oценка Random Forest\", fontsize=20)\n",
    "plt.xlabel(\"Количество отобранных признаков\", fontsize=20)\n",
    "\n",
    "plt.title('Оценка метрик в зависимости от признаков')\n",
    "\n",
    "plt.plot(rfi_1_50.index, rfi_1_50['RFI F1 Score'], label='Random forest RFI F1 Score')\n",
    "plt.plot(rfi_1_50.index, rfi_1_50['RFI Accuracy'], label='Random forest RFI Accuracy')\n",
    "\n",
    "plt.legend(prop={'size': 30})"
   ]
  },
  {
   "cell_type": "code",
   "execution_count": null,
   "metadata": {
    "colab": {
     "base_uri": "https://localhost:8080/",
     "height": 332
    },
    "id": "K76UP3IJKEHl",
    "outputId": "8201dcc9-5d50-4cf8-fb04-66676aba6824"
   },
   "outputs": [],
   "source": [
    "rfi_7_15 = score_from_n_to_m_best_features_rfi(7, 15)\n",
    "rfi_7_15"
   ]
  },
  {
   "cell_type": "code",
   "execution_count": null,
   "metadata": {
    "colab": {
     "base_uri": "https://localhost:8080/",
     "height": 881
    },
    "id": "ZlMSW1szKL6h",
    "outputId": "39bf8129-570d-4363-e7dd-40619119b2d7"
   },
   "outputs": [],
   "source": [
    "plt.figure(figsize=(20, 10))\n",
    "#plt.xticks(rotation=30)\n",
    "\n",
    "plt.ylabel(\"Oценка Random Forest\", fontsize=20)\n",
    "plt.xlabel(\"Количество отобранных признаков\", fontsize=20)\n",
    "\n",
    "plt.title('Оценка метрик в зависимости от признаков')\n",
    "\n",
    "plt.plot(rfi_7_15.index, rfi_7_15['RFI F1 Score'], label='Random forest RFI F1 Score')\n",
    "plt.plot(rfi_7_15.index, rfi_7_15['RFI Accuracy'], label='Random forest RFI Accuracy')\n",
    "\n",
    "plt.legend(prop={'size': 20})"
   ]
  },
  {
   "cell_type": "code",
   "execution_count": null,
   "metadata": {
    "colab": {
     "base_uri": "https://localhost:8080/",
     "height": 424
    },
    "id": "1ckV_aEuTlxS",
    "outputId": "d8bf2c76-75a6-4579-bcbe-b499483627e6"
   },
   "outputs": [],
   "source": [
    "rfi_9_features = df_best_n_features_rfi(9)\n",
    "rfi_9_features"
   ]
  },
  {
   "cell_type": "code",
   "execution_count": null,
   "metadata": {
    "colab": {
     "base_uri": "https://localhost:8080/"
    },
    "id": "jfNT_f2wVT1f",
    "outputId": "f596ba28-2626-4506-e7fb-b185182598b3"
   },
   "outputs": [],
   "source": [
    "rfi_9_features.columns"
   ]
  },
  {
   "cell_type": "code",
   "execution_count": null,
   "metadata": {
    "id": "8lLxtBOZAryh"
   },
   "outputs": [],
   "source": [
    "X_rfi = rfi_9_features.drop(['target'], axis=1)\n",
    "y_rfi = rfi_9_features['target']\n",
    "\n",
    "X_rfi_train, X_rfi_test, y_rfi_train, y_rfi_test = train_test_split(X_rfi, y_rfi, test_size=0.2, random_state=42)"
   ]
  },
  {
   "cell_type": "code",
   "execution_count": null,
   "metadata": {
    "colab": {
     "base_uri": "https://localhost:8080/"
    },
    "id": "1p_NqFjJBEx6",
    "outputId": "aa97932c-a644-4be2-944d-913265272f07"
   },
   "outputs": [],
   "source": [
    "RF = RandomForestClassifier()\n",
    "RF.fit(X_rfi_train, y_rfi_train)\n",
    "y_pred_rfi = RF.predict(X_rfi_test)\n",
    "\n",
    "cm_rf_rfi = pd.DataFrame(confusion_matrix(y_rfi_test, y_pred_rfi))\n",
    "sensitivity = cm_rf_rfi[0][0] / (cm_rf_rfi[0][0] + cm_rf_rfi[1][0])\n",
    "specificity = cm_rf_rfi[1][1] / (cm_rf_rfi[0][1] + cm_rf_rfi[1][1])\n",
    "\n",
    "RF_RFI_metric = [accuracy_score(y_rfi_test, y_pred_rfi), f1_score(y_rfi_test, y_pred_rfi), specificity, sensitivity]\n",
    "RF_RFI_metric"
   ]
  },
  {
   "cell_type": "code",
   "execution_count": null,
   "metadata": {
    "colab": {
     "base_uri": "https://localhost:8080/",
     "height": 175
    },
    "id": "nPimCkvTUkNL",
    "outputId": "f82cbbfa-1192-4f0e-bb32-af7503eef377"
   },
   "outputs": [],
   "source": [
    "res['RFI'] = RF_RFI_metric\n",
    "res = res.round(3)\n",
    "res"
   ]
  },
  {
   "cell_type": "code",
   "execution_count": null,
   "metadata": {
    "colab": {
     "base_uri": "https://localhost:8080/",
     "height": 175
    },
    "id": "xozeenf0WKwq",
    "outputId": "1b5247ca-ae5f-4de8-d260-1fe52b9676e2"
   },
   "outputs": [],
   "source": [
    "_res = res.drop(columns= ['LR', 'SVM', 'CB',\t'ENS_1', 'ENS_2', 'ENS_5',\t'ENS_4',\t'K_means_1',\t'K_means_2',\t'K_means_3'])\n",
    "_res.rename(columns = {'ВИ_7_лучших':'RF_ВИ_7', 'ВИ_10_лучших':'RF_ВИ_10', 'RF_EFS_1_6_признаков':'RF_EFS_6', 'RF_EFS_2_9_признаков':'RF_EFS_9'}, inplace = True )\n",
    "_res"
   ]
  },
  {
   "cell_type": "markdown",
   "metadata": {
    "id": "fIvSrm3jpKbZ"
   },
   "source": [
    "## 5.5. PCA"
   ]
  },
  {
   "cell_type": "code",
   "execution_count": null,
   "metadata": {
    "id": "iLnvUK4n0eQA"
   },
   "outputs": [],
   "source": [
    "from sklearn.decomposition import PCA\n",
    "\n",
    "_data = df.drop(['target'], axis=1)\n",
    "\n",
    "PCA_output = PCA(n_components=10)\n",
    "PCA_output.fit(_data)\n",
    "sklearn_transformed_data = PCA_output.transform(_data)"
   ]
  },
  {
   "cell_type": "code",
   "execution_count": null,
   "metadata": {
    "colab": {
     "base_uri": "https://localhost:8080/",
     "height": 424
    },
    "id": "vuoL6Oq_vojX",
    "outputId": "bf3678a2-5002-4306-ff06-d53a6c5d5146"
   },
   "outputs": [],
   "source": [
    "_PCA = pd.DataFrame(sklearn_transformed_data)\n",
    "_PCA['target'] = df.target\n",
    "_PCA"
   ]
  },
  {
   "cell_type": "code",
   "execution_count": null,
   "metadata": {
    "id": "jywadWAVwotw"
   },
   "outputs": [],
   "source": [
    "X_pca = _PCA.drop(['target'], axis=1)\n",
    "y_pca = _PCA['target']\n",
    "X_train_pca, X_test_pca, y_train_pca, y_test_pca = train_test_split(X_pca, y_pca, test_size=0.2, random_state=42)"
   ]
  },
  {
   "cell_type": "code",
   "execution_count": null,
   "metadata": {
    "colab": {
     "base_uri": "https://localhost:8080/",
     "height": 75
    },
    "id": "DIu36B-twowv",
    "outputId": "eaaecf08-1096-4ca4-ff65-5b79bccfa424"
   },
   "outputs": [],
   "source": [
    "RF = RandomForestClassifier()\n",
    "RF.fit(X_train_pca, y_train_pca)"
   ]
  },
  {
   "cell_type": "code",
   "execution_count": null,
   "metadata": {
    "colab": {
     "base_uri": "https://localhost:8080/"
    },
    "id": "8gpdBj_fxrKN",
    "outputId": "58f987e1-3409-4337-9653-36aac00fc09d"
   },
   "outputs": [],
   "source": [
    "y_pred_rf = RF.predict(X_test_pca)\n",
    "\n",
    "print(f'Random forest F1 Score {f1_score(y_test_pca, y_pred_rf)}')\n",
    "print(f'Random forest Accuracy {accuracy_score(y_test_pca, y_pred_rf)}')"
   ]
  },
  {
   "cell_type": "code",
   "execution_count": null,
   "metadata": {
    "id": "1NgXi_-V4v8z"
   },
   "outputs": [],
   "source": [
    "def pca_from_n_to_m_components(n, m):\n",
    "\n",
    "  pca = pd.DataFrame(index=range(n, m + 1),columns=['Random forest PCA Accuracy', 'Random forest PCA F1 Score', 'Random forest PCA Specificity', 'Random forest PCA Sensitivity'])\n",
    "\n",
    "  _data = df.drop(['target'], axis=1)\n",
    "\n",
    "  for i in range (n, m + 1):\n",
    "\n",
    "    f1_score_i = 0\n",
    "    accuracy_i = 0\n",
    "    sensitivity_i = 0\n",
    "    specificity_i = 0\n",
    "\n",
    "    for j in range (10):\n",
    "\n",
    "      PCA_output = PCA(n_components=i)\n",
    "      PCA_output.fit(_data)\n",
    "      sklearn_transformed_data = PCA_output.transform(_data)\n",
    "      _PCA = pd.DataFrame(sklearn_transformed_data)\n",
    "      _PCA['target'] = df.target\n",
    "\n",
    "      X_pca = _PCA.drop(['target'], axis=1)\n",
    "      y_pca = _PCA['target']\n",
    "      X_train_pca, X_test_pca, y_train_pca, y_test_pca = train_test_split(X_pca, y_pca, test_size=0.2, random_state=42)\n",
    "\n",
    "      RF = RandomForestClassifier()\n",
    "      RF.fit(X_train_pca, y_train_pca)\n",
    "      y_pred_pca = RF.predict(X_test_pca)\n",
    "\n",
    "      cm = pd.DataFrame(confusion_matrix(y_test_pca, y_pred_pca))\n",
    "      sensitivity = cm[0][0] / (cm[0][0] + cm[1][0])\n",
    "      specificity = cm[1][1] / (cm[0][1] + cm[1][1])\n",
    "\n",
    "      f1_score_i += f1_score(y_test_pca, y_pred_pca)\n",
    "      accuracy_i += accuracy_score(y_test_pca, y_pred_pca)\n",
    "      sensitivity_i += sensitivity\n",
    "      specificity_i += specificity\n",
    "\n",
    "    pca['Random forest PCA F1 Score'][i] = round(f1_score_i / 10, 3)\n",
    "    pca['Random forest PCA Accuracy'][i] = round(accuracy_i / 10, 3)\n",
    "    pca['Random forest PCA Specificity'][i] = round(specificity_i / 10, 3)\n",
    "    pca['Random forest PCA Sensitivity'][i] = round(sensitivity_i / 10, 3)\n",
    "\n",
    "  return(pca)"
   ]
  },
  {
   "cell_type": "code",
   "execution_count": null,
   "metadata": {
    "colab": {
     "base_uri": "https://localhost:8080/",
     "height": 1000
    },
    "id": "6iNBKPm24v__",
    "outputId": "6cb30547-4b42-4fba-9b53-c29d82abbd1d"
   },
   "outputs": [],
   "source": [
    "pca_1_to_50 = pca_from_n_to_m_components(1, 50)\n",
    "pca_1_to_50"
   ]
  },
  {
   "cell_type": "code",
   "execution_count": null,
   "metadata": {
    "colab": {
     "base_uri": "https://localhost:8080/",
     "height": 881
    },
    "id": "lQIGQicX4wC4",
    "outputId": "0db643ea-e647-4fc1-ab96-458e96ab3073"
   },
   "outputs": [],
   "source": [
    "plt.figure(figsize=(20, 10))\n",
    "#plt.xticks(rotation=30)\n",
    "\n",
    "plt.ylabel(\"Oценка Random Forest\", fontsize=20)\n",
    "plt.xlabel(\"Количество компонент\", fontsize=20)\n",
    "\n",
    "plt.title('Оценка метрик в зависимости от количества компонент в PCA')\n",
    "\n",
    "plt.plot(pca_1_to_50.index, pca_1_to_50['Random forest PCA F1 Score'], label='Random forest PCA F1 Score')\n",
    "plt.plot(pca_1_to_50.index, pca_1_to_50['Random forest PCA Accuracy'], label='Random forest PCA Accuracy')\n",
    "\n",
    "plt.legend(prop={'size': 30})"
   ]
  },
  {
   "cell_type": "code",
   "execution_count": null,
   "metadata": {
    "colab": {
     "base_uri": "https://localhost:8080/",
     "height": 551
    },
    "id": "VL3GG_Q6-8Fb",
    "outputId": "e10c058e-c214-4dc7-b1d1-e65df6f6e2b9"
   },
   "outputs": [],
   "source": [
    "pca_5_to_20 = pca_from_n_to_m_components(5, 20)\n",
    "pca_5_to_20"
   ]
  },
  {
   "cell_type": "code",
   "execution_count": null,
   "metadata": {
    "colab": {
     "base_uri": "https://localhost:8080/",
     "height": 727
    },
    "id": "HtnAtniS-cJa",
    "outputId": "f3b1cc6e-6904-4c03-8b5b-527bb718c0a4"
   },
   "outputs": [],
   "source": [
    "plt.figure(figsize=(20, 8))\n",
    "#plt.xticks(rotation=30)\n",
    "\n",
    "plt.ylabel(\"Oценка Random Forest\", fontsize=20)\n",
    "plt.xlabel(\"Количество компонент\", fontsize=20)\n",
    "\n",
    "plt.title('Оценка метрик в зависимости от количества компонент в PCA')\n",
    "\n",
    "plt.plot(pca_5_to_20.index, pca_5_to_20['Random forest PCA F1 Score'], label='Random forest PCA F1 Score')\n",
    "plt.plot(pca_5_to_20.index, pca_5_to_20['Random forest PCA Accuracy'], label='Random forest PCA Accuracy')\n",
    "\n",
    "plt.legend(prop={'size': 30})"
   ]
  },
  {
   "cell_type": "code",
   "execution_count": null,
   "metadata": {
    "id": "CMuJDV9l-LZS"
   },
   "outputs": [],
   "source": [
    "pca_5_to_20 = pca_5_to_20.T"
   ]
  },
  {
   "cell_type": "code",
   "execution_count": null,
   "metadata": {
    "colab": {
     "base_uri": "https://localhost:8080/",
     "height": 175
    },
    "id": "N99eBNA_9-2K",
    "outputId": "32f71a03-d48c-4267-d507-874e3b3f8efc"
   },
   "outputs": [],
   "source": [
    "res['PCA_8'] = list(pca_5_to_20[8])\n",
    "res['PCA_13'] = list(pca_5_to_20[13])\n",
    "\n",
    "res = res.round(3)\n",
    "res"
   ]
  },
  {
   "cell_type": "code",
   "execution_count": null,
   "metadata": {
    "colab": {
     "base_uri": "https://localhost:8080/",
     "height": 175
    },
    "id": "kTbhWS2m_aGO",
    "outputId": "a84ddd7f-7569-4bae-bda7-1e28389fbf29"
   },
   "outputs": [],
   "source": [
    "_res = res.drop(columns= ['LR', 'SVM', 'CB',\t'ENS_1', 'ENS_2', 'ENS_5',\t'ENS_4',\t'K_means_1',\t'K_means_2',\t'K_means_3'])\n",
    "_res.rename(columns = {'ВИ_7_лучших':'RF_ВИ_7', 'ВИ_10_лучших':'RF_ВИ_10', 'RF_EFS_1_6_признаков':'RF_EFS_6', 'RF_EFS_2_9_признаков':'RF_EFS_9'}, inplace = True )\n",
    "_res"
   ]
  },
  {
   "cell_type": "code",
   "execution_count": null,
   "metadata": {
    "id": "CMIWl1jWu2Js"
   },
   "outputs": [],
   "source": [
    "#res.to_csv('all_result.zip', index=False, compression=compression_opts) "
   ]
  },
  {
   "cell_type": "code",
   "execution_count": null,
   "metadata": {
    "colab": {
     "base_uri": "https://localhost:8080/",
     "height": 175
    },
    "id": "byVY69ChvOvb",
    "outputId": "899fc81e-7c48-4426-fbf7-a42ec891f421"
   },
   "outputs": [],
   "source": [
    "res = pd.read_csv('result.csv')\n",
    "res.index = ['Точность', 'F1 мера', 'Доля верно обнаруженных больных', 'Доля верно обнаруженных здоровых']\n",
    "res"
   ]
  },
  {
   "cell_type": "markdown",
   "metadata": {
    "id": "3zrbDmG3DUji"
   },
   "source": [
    "## 5.6. Объединим EFS, RFI и PCA"
   ]
  },
  {
   "cell_type": "code",
   "execution_count": null,
   "metadata": {
    "colab": {
     "base_uri": "https://localhost:8080/",
     "height": 424
    },
    "id": "FI2A-mQO1YE8",
    "outputId": "fa9363fe-25b2-42bf-fe6e-0d752704410e"
   },
   "outputs": [],
   "source": [
    "import pandas as pd\n",
    "import numpy as np\n",
    "from sklearn.decomposition import PCA\n",
    "\n",
    "_data = df.drop(['target'], axis=1)\n",
    "\n",
    "PCA_output = PCA(n_components=13)\n",
    "PCA_output.fit(_data)\n",
    "sklearn_transformed_data = PCA_output.transform(_data)\n",
    "_PCA = pd.DataFrame(sklearn_transformed_data)\n",
    "_PCA"
   ]
  },
  {
   "cell_type": "code",
   "execution_count": null,
   "metadata": {
    "colab": {
     "base_uri": "https://localhost:8080/"
    },
    "id": "Yfix_40o5fCO",
    "outputId": "cd58dc3c-8c98-475d-9977-3fb9f3380fd1"
   },
   "outputs": [],
   "source": [
    "efs_9 = [2276, 2254, 2282, 2316, 2310, 3273, 2313, 2271, 2322]\n",
    "rfi_9 = [2186, 2142, 3537, 2177, 2152, 2149, 3544, 2147, 2185]\n",
    "features_efs_rfi = set(rfi_9 + efs_9)\n",
    "features_efs_rfi"
   ]
  },
  {
   "cell_type": "code",
   "execution_count": null,
   "metadata": {
    "colab": {
     "base_uri": "https://localhost:8080/",
     "height": 458
    },
    "id": "YFb0xDN65dow",
    "outputId": "98e34271-2b78-4313-bb1a-99b507405de6"
   },
   "outputs": [],
   "source": [
    "df_t = df.T\n",
    "df_ens = df_t.loc[features_efs_rfi]\n",
    "df_ens = df_ens.T\n",
    "df_ens['target'] = df.target\n",
    "df_ens"
   ]
  },
  {
   "cell_type": "code",
   "execution_count": null,
   "metadata": {
    "colab": {
     "base_uri": "https://localhost:8080/",
     "height": 468
    },
    "id": "ZguQ5l0H2tl3",
    "outputId": "e7413f86-6592-443d-86ab-cf38ec897a5a"
   },
   "outputs": [],
   "source": [
    "df_ens = pd.concat([_PCA, df_ens], axis=1, join=\"inner\")\n",
    "df_ens"
   ]
  },
  {
   "cell_type": "code",
   "execution_count": null,
   "metadata": {
    "id": "nxVnudVh3m5v"
   },
   "outputs": [],
   "source": [
    "from sklearn.model_selection import train_test_split\n",
    "\n",
    "from sklearn.metrics import f1_score\n",
    "from sklearn.metrics import accuracy_score\n",
    "from sklearn.metrics import confusion_matrix\n",
    "\n",
    "X_ens = df_ens.drop(['target'], axis=1)\n",
    "y_ens = df_ens['target']\n",
    "\n",
    "X_ens_train, X_ens_test, y_ens_train, y_ens_test = train_test_split(X_ens, y_ens, test_size=0.2, random_state=42)"
   ]
  },
  {
   "cell_type": "code",
   "execution_count": null,
   "metadata": {
    "colab": {
     "base_uri": "https://localhost:8080/"
    },
    "id": "AA4shvMr3nCv",
    "outputId": "0f544da9-15b9-4770-a62d-822a8cc13813"
   },
   "outputs": [],
   "source": [
    "RF = RandomForestClassifier()\n",
    "RF.fit(X_ens_train, y_ens_train)\n",
    "y_pred_ens = RF.predict(X_ens_test)\n",
    "\n",
    "cm_rf_ens = pd.DataFrame(confusion_matrix(y_ens_test, y_pred_ens))\n",
    "sensitivity = cm_rf_ens[0][0] / (cm_rf_ens[0][0] + cm_rf_ens[1][0])\n",
    "specificity = cm_rf_ens[1][1] / (cm_rf_ens[0][1] + cm_rf_ens[1][1])\n",
    "\n",
    "RF_ENS_metric = [accuracy_score(y_ens_test, y_pred_ens), f1_score(y_ens_test, y_pred_ens), specificity, sensitivity]\n",
    "RF_ENS_metric"
   ]
  },
  {
   "cell_type": "code",
   "execution_count": null,
   "metadata": {
    "colab": {
     "base_uri": "https://localhost:8080/",
     "height": 204
    },
    "id": "t2jGEywxomq9",
    "outputId": "7c701f91-25aa-4313-b60a-ca60434b5d2c"
   },
   "outputs": [],
   "source": [
    "res['EFS_RFI_PCA'] = RF_ENS_metric\n",
    "res = res.round(3)\n",
    "res"
   ]
  },
  {
   "cell_type": "code",
   "execution_count": null,
   "metadata": {
    "colab": {
     "base_uri": "https://localhost:8080/",
     "height": 175
    },
    "id": "przcMsIHVpqp",
    "outputId": "dbc4c8b3-1c95-4f8f-a35e-e153a23fc0ca"
   },
   "outputs": [],
   "source": [
    "_res = res.drop(columns= ['LR', 'SVM', 'CB',\t'ENS_1', 'ENS_2', 'ENS_5',\t'ENS_4',\t'K_means_1',\t'K_means_2',\t'K_means_3'])\n",
    "_res.rename(columns = {'ВИ_7_лучших':'RF_ВИ_7', 'ВИ_10_лучших':'RF_ВИ_10', 'RF_EFS_1_6_признаков':'RF_EFS_6', 'RF_EFS_2_9_признаков':'RF_EFS_9'}, inplace = True )\n",
    "_res"
   ]
  },
  {
   "cell_type": "markdown",
   "metadata": {
    "id": "39pzhQ5UAGqC"
   },
   "source": [
    "# 6. Наиболее важные Raman Shifts"
   ]
  },
  {
   "cell_type": "code",
   "execution_count": null,
   "metadata": {
    "colab": {
     "base_uri": "https://localhost:8080/",
     "height": 468
    },
    "id": "zswWYOrYoYow",
    "outputId": "b775f228-e255-4ed5-e6dc-0ed6c172310f"
   },
   "outputs": [],
   "source": [
    "df"
   ]
  },
  {
   "cell_type": "code",
   "execution_count": null,
   "metadata": {
    "colab": {
     "base_uri": "https://localhost:8080/",
     "height": 927
    },
    "id": "RMGto_5pDa3j",
    "outputId": "ec753480-f94e-4869-cb17-c791c5f3f378"
   },
   "outputs": [],
   "source": [
    "df.boxplot(column=[2282], by='target', grid= False , color='red', figsize=(5, 10)) "
   ]
  }
 ],
 "metadata": {
  "colab": {
   "collapsed_sections": [
    "wpnko4fqZ-tM",
    "QhjePmvl7B1S",
    "L0qjQr3opFMy",
    "lYAOVFg4ckK3"
   ],
   "provenance": []
  },
  "gpuClass": "standard",
  "kernelspec": {
   "display_name": "Python 3 (ipykernel)",
   "language": "python",
   "name": "python3"
  },
  "language_info": {
   "codemirror_mode": {
    "name": "ipython",
    "version": 3
   },
   "file_extension": ".py",
   "mimetype": "text/x-python",
   "name": "python",
   "nbconvert_exporter": "python",
   "pygments_lexer": "ipython3",
   "version": "3.11.4"
  }
 },
 "nbformat": 4,
 "nbformat_minor": 1
}
